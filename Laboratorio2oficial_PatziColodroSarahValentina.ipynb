{
  "cells": [
    {
      "cell_type": "markdown",
      "source": [
        "**Nombre:** Sarah Valentina Patzi Colodro\n",
        "\n",
        "**Carrera:** Ingeniería en diseño y animación digital\n",
        "\n",
        "\n",
        "**Para este laboratorio implementaremos y compararemos modelos de regresión a partir de un dataset que cumpla los requisitos de 10 columnas y 10000 filas**\n",
        "\n",
        "**Dataset usado:** https://www.kaggle.com/datasets/stealthtechnologies/predict-purity-and-price-of-honey/data\n",
        "\n",
        "**Nombre del Dataset:** Predict Purity and Price of Honey\n",
        "\n",
        "**Formato:** 11 Columnas (solo se usaran 10 de las 11 debido a que la columna Pollen_analysis es texto ) 200K+ Filas (se usaran 17000)\n",
        "\n",
        "**Variables de entrada:**\n",
        "\n",
        "1.   **CS (Color Score):**\n",
        "representa la puntuación de color de la muestra de miel, que va de 1,0 a 10,0. Los valores más bajos indican un color más claro, mientras que los valores más altos indican un color más oscuro.\n",
        "\n",
        "2.   **Density:**\n",
        "Representa la densidad de la muestra de miel en gramos por centímetro cúbico a 25°C, oscilando entre 1,21 y 1,86.\n",
        "\n",
        "3. **WC (Water Content):**\n",
        "Representa el contenido de agua en la muestra de miel, que varía entre 12,0% y 25,0%.\n",
        "\n",
        "4. **pH:**\n",
        "Representa el nivel de pH de la muestra de miel, que varía entre 2,50 y 7,50.\n",
        "\n",
        "5. **EC (Electrical Conductivity):**\n",
        "Representa la conductividad eléctrica de la muestra de miel en miliSiemens por centímetro.\n",
        "\n",
        "6. **F (Fructose Level):**\n",
        "Representa el nivel de fructosa de la muestra de miel, que varía de 20 a 50.\n",
        "\n",
        "7. **G (Glucose Level):**\n",
        "Representa el nivel de glucosa de la muestra de miel, que varía entre 20 y 45.\n",
        "\n",
        "8. **Viscosity:**\n",
        "Representa la viscosidad de la muestra de miel en centipoise, oscilando entre 1500 y 10000. Los valores de viscosidad entre 2500 y 9500 se consideran óptimos para la pureza.\n",
        "\n",
        "9. **Purity:**\n",
        "La variable objetivo representa la pureza de la muestra de miel, que varía entre 0,01 y 1,00.\n",
        "\n",
        "**Variable de salida Y:**\n",
        "* **Price (Precio):**\n",
        "El precio calculado de la miel."
      ],
      "metadata": {
        "id": "94Wyst-klL57"
      }
    },
    {
      "cell_type": "markdown",
      "source": [
        "### **Importar Librerias**"
      ],
      "metadata": {
        "id": "qxYN8T4ICuVp"
      }
    },
    {
      "cell_type": "markdown",
      "source": [
        "**import os:**\n",
        "Importamos os para manejar archivos y directorios.\n",
        "\n",
        "**import numpy as np:**\n",
        "Importamos numpy para operaciones matemáticas y manejo de arreglos.\n",
        "\n",
        "**from matplotlib import pyplot:**\n",
        "Importamos pyplot de matplotlib para crear gráficos.\n",
        "\n",
        "**%matplotlib inline:**\n",
        "Configuramos para que los gráficos se muestren dentro del cuaderno."
      ],
      "metadata": {
        "id": "b5u4rNB8C4sD"
      }
    },
    {
      "cell_type": "code",
      "source": [
        "# utilizado para manejos de directorios y rutas\n",
        "import os\n",
        "\n",
        "# Computacion vectorial y cientifica para python\n",
        "import numpy as np\n",
        "\n",
        "# Librerias para graficación (trazado de gráficos)\n",
        "from matplotlib import pyplot\n",
        "\n",
        "# Biblioteca para la manipulación y el análisis de datos\n",
        "import pandas as pd\n",
        "\n",
        "# llama a matplotlib a embeber graficas dentro de los cuadernillos\n",
        "%matplotlib inline\n"
      ],
      "metadata": {
        "id": "8jQNbNDKlPP0"
      },
      "execution_count": 466,
      "outputs": []
    },
    {
      "cell_type": "markdown",
      "source": [
        "### **Importar carpetas de drive**"
      ],
      "metadata": {
        "id": "hOWxdzQMCphc"
      }
    },
    {
      "cell_type": "code",
      "source": [
        "from google.colab import drive\n",
        "drive.mount(\"/content/gdrive\")"
      ],
      "metadata": {
        "colab": {
          "base_uri": "https://localhost:8080/"
        },
        "id": "Vjx_eeLAmqDV",
        "outputId": "e573c803-7dae-45cf-ccff-d0e99f7d1653"
      },
      "execution_count": 467,
      "outputs": [
        {
          "output_type": "stream",
          "name": "stdout",
          "text": [
            "Drive already mounted at /content/gdrive; to attempt to forcibly remount, call drive.mount(\"/content/gdrive\", force_remount=True).\n"
          ]
        }
      ]
    },
    {
      "cell_type": "markdown",
      "source": [
        "# **Regresion Lineal Multivariable**"
      ],
      "metadata": {
        "id": "xbBbWU3rlRU5"
      }
    },
    {
      "cell_type": "markdown",
      "source": [
        "### Cargar Datos:"
      ],
      "metadata": {
        "id": "-7X9T4WVEOPB"
      }
    },
    {
      "cell_type": "markdown",
      "source": [
        "Cargamos el dataset de pureza de miel desde un archivo CSV y eliminamos la columna Pollen_analysis porque contiene texto, lo cual no es útil para el análisis de regresión que requiere datos numéricos"
      ],
      "metadata": {
        "id": "PLj7m2sYFHro"
      }
    },
    {
      "cell_type": "code",
      "source": [
        "# Cargamos el dataset\n",
        "data = pd.read_csv('/content/gdrive/MyDrive/IA/LaboratoriosOficiales/Lab2-PatziColodroSarahValentina/honey_purity_dataset.csv', delimiter=',')\n",
        "\n",
        "\n",
        "# Eliminamos la columna 'Pollen_analysis' para que no interfiera en el análisis de regresión al ser texto y no numeros\n",
        "data = data.drop('Pollen_analysis', axis=1)\n",
        "\n",
        "#FORMA B: Seleccionamos las primeras 17,000 filas en orden, para poder visualizar de mejor manera las graficas ya que el dataset original cuenta con 247903 datos\n",
        "#data = data.iloc[:17000]\n",
        "\n",
        "print(data.shape)"
      ],
      "metadata": {
        "colab": {
          "base_uri": "https://localhost:8080/"
        },
        "id": "Ck-Z2pvwmgEK",
        "outputId": "136dad38-17a7-4c3a-e61c-f9253d8711f9"
      },
      "execution_count": 468,
      "outputs": [
        {
          "output_type": "stream",
          "name": "stdout",
          "text": [
            "(247903, 10)\n"
          ]
        }
      ]
    },
    {
      "cell_type": "code",
      "source": [
        "data.info() #Muestra informacion si hay valores nulos y el tipo de datos de cada columna"
      ],
      "metadata": {
        "colab": {
          "base_uri": "https://localhost:8080/"
        },
        "id": "nWnzIf79mirO",
        "outputId": "5b8ca679-4059-4a84-cce7-ebc37f4ddfc4"
      },
      "execution_count": 469,
      "outputs": [
        {
          "output_type": "stream",
          "name": "stdout",
          "text": [
            "<class 'pandas.core.frame.DataFrame'>\n",
            "RangeIndex: 247903 entries, 0 to 247902\n",
            "Data columns (total 10 columns):\n",
            " #   Column     Non-Null Count   Dtype  \n",
            "---  ------     --------------   -----  \n",
            " 0   CS         247903 non-null  float64\n",
            " 1   Density    247903 non-null  float64\n",
            " 2   WC         247903 non-null  float64\n",
            " 3   pH         247903 non-null  float64\n",
            " 4   EC         247903 non-null  float64\n",
            " 5   F          247903 non-null  float64\n",
            " 6   G          247903 non-null  float64\n",
            " 7   Viscosity  247903 non-null  float64\n",
            " 8   Purity     247903 non-null  float64\n",
            " 9   Price      247903 non-null  float64\n",
            "dtypes: float64(10)\n",
            "memory usage: 18.9 MB\n"
          ]
        }
      ]
    },
    {
      "cell_type": "markdown",
      "source": [
        "### Ajustamos el tamaño de las filas y definimos columnas:"
      ],
      "metadata": {
        "id": "7uC0T_5FF8D8"
      }
    },
    {
      "cell_type": "markdown",
      "source": [
        "Seleccionamos las primeras 17,000 filas del dataset para facilitar la visualización de gráficos debido al tamaño grande del conjunto de datos original. Luego, separamos los datos en dos partes: \"X\", que contiene todas las columnas excepto la última (para las características), y \"y\", que toma solo la última columna (para la variable objetivo). \"m\" almacena el número de ejemplos (filas) en \"y\". Imprimimos las primeras 10 filas del DataFrame para verificar que los datos se cargaron correctamente y mostramos el DataFrame completo de manera visualmente formateada para una revisión más fácil."
      ],
      "metadata": {
        "id": "O7hYxS8dF27p"
      }
    },
    {
      "cell_type": "markdown",
      "source": [
        "* **[:17000,]** estás seleccionando desde la fila 0 hasta la fila 16,999\n",
        "\n",
        "* **[:-1]:** Esto selecciona todas las columnas excepto la última\n",
        "\n",
        "* **[-1]:** Aquí se selecciona solo la última columna del DataFrame"
      ],
      "metadata": {
        "id": "oFrOCtufZ01V"
      }
    },
    {
      "cell_type": "code",
      "source": [
        "\n",
        "# FORMA B: Seleccionamos las columnas independientes (X) y dependiente (y)\n",
        "#X = data.iloc[:, :-1]  # Todas las columnas excepto la última [FILAS, COLUMNAS]\n",
        "#y = data.iloc[:, -1]   # Solo la última columna [FILAS, COLUMNAS]\n",
        "\n",
        "# Seleccionamos las primeras 17,000 filas en orden, para poder visualizar de mejor manera las graficas ya que el dataset original cuenta con 247903 datos\n",
        "# tambien especificamos que para x queremos todas las columnas menos la ultima y para \"Y\" queremos la ultima\n",
        "X = data.iloc[:17000, :-1]  #[FILAS, COLUMNAS]\n",
        "y = data.iloc[:17000, -1]\n",
        "m = y.size\n",
        "\n",
        "# Verifica el contenido del array 'data'\n",
        "print(data.head(10))  # Imprime las primeras 10 filas para asegurarte de que está correcto\n",
        "\n",
        "print('Número de ejemplos (filas): ', m)\n",
        "\n",
        "#se utiliza para mostrar un DataFrame de pandas de manera más visual y formateada\n",
        "display(data)"
      ],
      "metadata": {
        "colab": {
          "base_uri": "https://localhost:8080/",
          "height": 641
        },
        "id": "5RksXBC5rwI_",
        "outputId": "c24fb8c1-3271-452c-8d1e-620fbab38e61"
      },
      "execution_count": 470,
      "outputs": [
        {
          "output_type": "stream",
          "name": "stdout",
          "text": [
            "     CS  Density     WC    pH    EC      F      G  Viscosity  Purity   Price\n",
            "0  2.81     1.75  23.04  6.29  0.76  39.02  33.63    4844.50    0.68  645.24\n",
            "1  9.47     1.82  17.50  7.20  0.71  38.15  34.41    6689.02    0.89  385.85\n",
            "2  4.61     1.84  23.72  7.31  0.80  27.47  34.36    6883.60    0.66  639.64\n",
            "3  1.77     1.40  16.61  4.01  0.78  31.52  28.15    7167.56    1.00  946.46\n",
            "4  6.11     1.25  19.63  4.82  0.90  29.65  42.52    5125.44    1.00  432.62\n",
            "5  2.17     1.35  20.67  4.11  0.75  27.19  43.54    3967.30    0.80  593.55\n",
            "6  7.15     1.57  13.37  5.79  0.89  43.38  44.94    7384.93    0.95  838.98\n",
            "7  3.17     1.23  23.35  6.64  0.85  43.50  36.33    5598.87    0.66  639.64\n",
            "8  4.98     1.73  16.60  6.61  0.74  22.49  44.74    8800.10    0.95  238.05\n",
            "9  8.49     1.50  15.75  4.50  0.86  49.59  38.13    2675.60    0.82  777.84\n",
            "Número de ejemplos (filas):  17000\n"
          ]
        },
        {
          "output_type": "display_data",
          "data": {
            "text/plain": [
              "          CS  Density     WC    pH    EC      F      G  Viscosity  Purity  \\\n",
              "0       2.81     1.75  23.04  6.29  0.76  39.02  33.63    4844.50    0.68   \n",
              "1       9.47     1.82  17.50  7.20  0.71  38.15  34.41    6689.02    0.89   \n",
              "2       4.61     1.84  23.72  7.31  0.80  27.47  34.36    6883.60    0.66   \n",
              "3       1.77     1.40  16.61  4.01  0.78  31.52  28.15    7167.56    1.00   \n",
              "4       6.11     1.25  19.63  4.82  0.90  29.65  42.52    5125.44    1.00   \n",
              "...      ...      ...    ...   ...   ...    ...    ...        ...     ...   \n",
              "247898  1.98     1.29  17.90  4.82  0.89  36.10  34.69    8261.63    1.00   \n",
              "247899  6.18     1.67  19.54  4.91  0.85  31.15  20.82    6939.39    1.00   \n",
              "247900  7.78     1.49  15.78  5.69  0.73  44.60  44.07    4139.79    0.64   \n",
              "247901  5.78     1.74  14.96  6.81  0.83  47.19  37.79    4417.74    0.97   \n",
              "247902  8.96     1.86  18.62  6.89  0.86  25.94  42.88    8119.62    0.64   \n",
              "\n",
              "         Price  \n",
              "0       645.24  \n",
              "1       385.85  \n",
              "2       639.64  \n",
              "3       946.46  \n",
              "4       432.62  \n",
              "...        ...  \n",
              "247898  754.98  \n",
              "247899  543.41  \n",
              "247900  615.46  \n",
              "247901  949.32  \n",
              "247902  384.48  \n",
              "\n",
              "[247903 rows x 10 columns]"
            ],
            "text/html": [
              "\n",
              "  <div id=\"df-394b8c2e-fcfa-4ebe-9722-23a9add72349\" class=\"colab-df-container\">\n",
              "    <div>\n",
              "<style scoped>\n",
              "    .dataframe tbody tr th:only-of-type {\n",
              "        vertical-align: middle;\n",
              "    }\n",
              "\n",
              "    .dataframe tbody tr th {\n",
              "        vertical-align: top;\n",
              "    }\n",
              "\n",
              "    .dataframe thead th {\n",
              "        text-align: right;\n",
              "    }\n",
              "</style>\n",
              "<table border=\"1\" class=\"dataframe\">\n",
              "  <thead>\n",
              "    <tr style=\"text-align: right;\">\n",
              "      <th></th>\n",
              "      <th>CS</th>\n",
              "      <th>Density</th>\n",
              "      <th>WC</th>\n",
              "      <th>pH</th>\n",
              "      <th>EC</th>\n",
              "      <th>F</th>\n",
              "      <th>G</th>\n",
              "      <th>Viscosity</th>\n",
              "      <th>Purity</th>\n",
              "      <th>Price</th>\n",
              "    </tr>\n",
              "  </thead>\n",
              "  <tbody>\n",
              "    <tr>\n",
              "      <th>0</th>\n",
              "      <td>2.81</td>\n",
              "      <td>1.75</td>\n",
              "      <td>23.04</td>\n",
              "      <td>6.29</td>\n",
              "      <td>0.76</td>\n",
              "      <td>39.02</td>\n",
              "      <td>33.63</td>\n",
              "      <td>4844.50</td>\n",
              "      <td>0.68</td>\n",
              "      <td>645.24</td>\n",
              "    </tr>\n",
              "    <tr>\n",
              "      <th>1</th>\n",
              "      <td>9.47</td>\n",
              "      <td>1.82</td>\n",
              "      <td>17.50</td>\n",
              "      <td>7.20</td>\n",
              "      <td>0.71</td>\n",
              "      <td>38.15</td>\n",
              "      <td>34.41</td>\n",
              "      <td>6689.02</td>\n",
              "      <td>0.89</td>\n",
              "      <td>385.85</td>\n",
              "    </tr>\n",
              "    <tr>\n",
              "      <th>2</th>\n",
              "      <td>4.61</td>\n",
              "      <td>1.84</td>\n",
              "      <td>23.72</td>\n",
              "      <td>7.31</td>\n",
              "      <td>0.80</td>\n",
              "      <td>27.47</td>\n",
              "      <td>34.36</td>\n",
              "      <td>6883.60</td>\n",
              "      <td>0.66</td>\n",
              "      <td>639.64</td>\n",
              "    </tr>\n",
              "    <tr>\n",
              "      <th>3</th>\n",
              "      <td>1.77</td>\n",
              "      <td>1.40</td>\n",
              "      <td>16.61</td>\n",
              "      <td>4.01</td>\n",
              "      <td>0.78</td>\n",
              "      <td>31.52</td>\n",
              "      <td>28.15</td>\n",
              "      <td>7167.56</td>\n",
              "      <td>1.00</td>\n",
              "      <td>946.46</td>\n",
              "    </tr>\n",
              "    <tr>\n",
              "      <th>4</th>\n",
              "      <td>6.11</td>\n",
              "      <td>1.25</td>\n",
              "      <td>19.63</td>\n",
              "      <td>4.82</td>\n",
              "      <td>0.90</td>\n",
              "      <td>29.65</td>\n",
              "      <td>42.52</td>\n",
              "      <td>5125.44</td>\n",
              "      <td>1.00</td>\n",
              "      <td>432.62</td>\n",
              "    </tr>\n",
              "    <tr>\n",
              "      <th>...</th>\n",
              "      <td>...</td>\n",
              "      <td>...</td>\n",
              "      <td>...</td>\n",
              "      <td>...</td>\n",
              "      <td>...</td>\n",
              "      <td>...</td>\n",
              "      <td>...</td>\n",
              "      <td>...</td>\n",
              "      <td>...</td>\n",
              "      <td>...</td>\n",
              "    </tr>\n",
              "    <tr>\n",
              "      <th>247898</th>\n",
              "      <td>1.98</td>\n",
              "      <td>1.29</td>\n",
              "      <td>17.90</td>\n",
              "      <td>4.82</td>\n",
              "      <td>0.89</td>\n",
              "      <td>36.10</td>\n",
              "      <td>34.69</td>\n",
              "      <td>8261.63</td>\n",
              "      <td>1.00</td>\n",
              "      <td>754.98</td>\n",
              "    </tr>\n",
              "    <tr>\n",
              "      <th>247899</th>\n",
              "      <td>6.18</td>\n",
              "      <td>1.67</td>\n",
              "      <td>19.54</td>\n",
              "      <td>4.91</td>\n",
              "      <td>0.85</td>\n",
              "      <td>31.15</td>\n",
              "      <td>20.82</td>\n",
              "      <td>6939.39</td>\n",
              "      <td>1.00</td>\n",
              "      <td>543.41</td>\n",
              "    </tr>\n",
              "    <tr>\n",
              "      <th>247900</th>\n",
              "      <td>7.78</td>\n",
              "      <td>1.49</td>\n",
              "      <td>15.78</td>\n",
              "      <td>5.69</td>\n",
              "      <td>0.73</td>\n",
              "      <td>44.60</td>\n",
              "      <td>44.07</td>\n",
              "      <td>4139.79</td>\n",
              "      <td>0.64</td>\n",
              "      <td>615.46</td>\n",
              "    </tr>\n",
              "    <tr>\n",
              "      <th>247901</th>\n",
              "      <td>5.78</td>\n",
              "      <td>1.74</td>\n",
              "      <td>14.96</td>\n",
              "      <td>6.81</td>\n",
              "      <td>0.83</td>\n",
              "      <td>47.19</td>\n",
              "      <td>37.79</td>\n",
              "      <td>4417.74</td>\n",
              "      <td>0.97</td>\n",
              "      <td>949.32</td>\n",
              "    </tr>\n",
              "    <tr>\n",
              "      <th>247902</th>\n",
              "      <td>8.96</td>\n",
              "      <td>1.86</td>\n",
              "      <td>18.62</td>\n",
              "      <td>6.89</td>\n",
              "      <td>0.86</td>\n",
              "      <td>25.94</td>\n",
              "      <td>42.88</td>\n",
              "      <td>8119.62</td>\n",
              "      <td>0.64</td>\n",
              "      <td>384.48</td>\n",
              "    </tr>\n",
              "  </tbody>\n",
              "</table>\n",
              "<p>247903 rows × 10 columns</p>\n",
              "</div>\n",
              "    <div class=\"colab-df-buttons\">\n",
              "\n",
              "  <div class=\"colab-df-container\">\n",
              "    <button class=\"colab-df-convert\" onclick=\"convertToInteractive('df-394b8c2e-fcfa-4ebe-9722-23a9add72349')\"\n",
              "            title=\"Convert this dataframe to an interactive table.\"\n",
              "            style=\"display:none;\">\n",
              "\n",
              "  <svg xmlns=\"http://www.w3.org/2000/svg\" height=\"24px\" viewBox=\"0 -960 960 960\">\n",
              "    <path d=\"M120-120v-720h720v720H120Zm60-500h600v-160H180v160Zm220 220h160v-160H400v160Zm0 220h160v-160H400v160ZM180-400h160v-160H180v160Zm440 0h160v-160H620v160ZM180-180h160v-160H180v160Zm440 0h160v-160H620v160Z\"/>\n",
              "  </svg>\n",
              "    </button>\n",
              "\n",
              "  <style>\n",
              "    .colab-df-container {\n",
              "      display:flex;\n",
              "      gap: 12px;\n",
              "    }\n",
              "\n",
              "    .colab-df-convert {\n",
              "      background-color: #E8F0FE;\n",
              "      border: none;\n",
              "      border-radius: 50%;\n",
              "      cursor: pointer;\n",
              "      display: none;\n",
              "      fill: #1967D2;\n",
              "      height: 32px;\n",
              "      padding: 0 0 0 0;\n",
              "      width: 32px;\n",
              "    }\n",
              "\n",
              "    .colab-df-convert:hover {\n",
              "      background-color: #E2EBFA;\n",
              "      box-shadow: 0px 1px 2px rgba(60, 64, 67, 0.3), 0px 1px 3px 1px rgba(60, 64, 67, 0.15);\n",
              "      fill: #174EA6;\n",
              "    }\n",
              "\n",
              "    .colab-df-buttons div {\n",
              "      margin-bottom: 4px;\n",
              "    }\n",
              "\n",
              "    [theme=dark] .colab-df-convert {\n",
              "      background-color: #3B4455;\n",
              "      fill: #D2E3FC;\n",
              "    }\n",
              "\n",
              "    [theme=dark] .colab-df-convert:hover {\n",
              "      background-color: #434B5C;\n",
              "      box-shadow: 0px 1px 3px 1px rgba(0, 0, 0, 0.15);\n",
              "      filter: drop-shadow(0px 1px 2px rgba(0, 0, 0, 0.3));\n",
              "      fill: #FFFFFF;\n",
              "    }\n",
              "  </style>\n",
              "\n",
              "    <script>\n",
              "      const buttonEl =\n",
              "        document.querySelector('#df-394b8c2e-fcfa-4ebe-9722-23a9add72349 button.colab-df-convert');\n",
              "      buttonEl.style.display =\n",
              "        google.colab.kernel.accessAllowed ? 'block' : 'none';\n",
              "\n",
              "      async function convertToInteractive(key) {\n",
              "        const element = document.querySelector('#df-394b8c2e-fcfa-4ebe-9722-23a9add72349');\n",
              "        const dataTable =\n",
              "          await google.colab.kernel.invokeFunction('convertToInteractive',\n",
              "                                                    [key], {});\n",
              "        if (!dataTable) return;\n",
              "\n",
              "        const docLinkHtml = 'Like what you see? Visit the ' +\n",
              "          '<a target=\"_blank\" href=https://colab.research.google.com/notebooks/data_table.ipynb>data table notebook</a>'\n",
              "          + ' to learn more about interactive tables.';\n",
              "        element.innerHTML = '';\n",
              "        dataTable['output_type'] = 'display_data';\n",
              "        await google.colab.output.renderOutput(dataTable, element);\n",
              "        const docLink = document.createElement('div');\n",
              "        docLink.innerHTML = docLinkHtml;\n",
              "        element.appendChild(docLink);\n",
              "      }\n",
              "    </script>\n",
              "  </div>\n",
              "\n",
              "\n",
              "<div id=\"df-cebd0689-a038-45b0-8655-b76091668c8f\">\n",
              "  <button class=\"colab-df-quickchart\" onclick=\"quickchart('df-cebd0689-a038-45b0-8655-b76091668c8f')\"\n",
              "            title=\"Suggest charts\"\n",
              "            style=\"display:none;\">\n",
              "\n",
              "<svg xmlns=\"http://www.w3.org/2000/svg\" height=\"24px\"viewBox=\"0 0 24 24\"\n",
              "     width=\"24px\">\n",
              "    <g>\n",
              "        <path d=\"M19 3H5c-1.1 0-2 .9-2 2v14c0 1.1.9 2 2 2h14c1.1 0 2-.9 2-2V5c0-1.1-.9-2-2-2zM9 17H7v-7h2v7zm4 0h-2V7h2v10zm4 0h-2v-4h2v4z\"/>\n",
              "    </g>\n",
              "</svg>\n",
              "  </button>\n",
              "\n",
              "<style>\n",
              "  .colab-df-quickchart {\n",
              "      --bg-color: #E8F0FE;\n",
              "      --fill-color: #1967D2;\n",
              "      --hover-bg-color: #E2EBFA;\n",
              "      --hover-fill-color: #174EA6;\n",
              "      --disabled-fill-color: #AAA;\n",
              "      --disabled-bg-color: #DDD;\n",
              "  }\n",
              "\n",
              "  [theme=dark] .colab-df-quickchart {\n",
              "      --bg-color: #3B4455;\n",
              "      --fill-color: #D2E3FC;\n",
              "      --hover-bg-color: #434B5C;\n",
              "      --hover-fill-color: #FFFFFF;\n",
              "      --disabled-bg-color: #3B4455;\n",
              "      --disabled-fill-color: #666;\n",
              "  }\n",
              "\n",
              "  .colab-df-quickchart {\n",
              "    background-color: var(--bg-color);\n",
              "    border: none;\n",
              "    border-radius: 50%;\n",
              "    cursor: pointer;\n",
              "    display: none;\n",
              "    fill: var(--fill-color);\n",
              "    height: 32px;\n",
              "    padding: 0;\n",
              "    width: 32px;\n",
              "  }\n",
              "\n",
              "  .colab-df-quickchart:hover {\n",
              "    background-color: var(--hover-bg-color);\n",
              "    box-shadow: 0 1px 2px rgba(60, 64, 67, 0.3), 0 1px 3px 1px rgba(60, 64, 67, 0.15);\n",
              "    fill: var(--button-hover-fill-color);\n",
              "  }\n",
              "\n",
              "  .colab-df-quickchart-complete:disabled,\n",
              "  .colab-df-quickchart-complete:disabled:hover {\n",
              "    background-color: var(--disabled-bg-color);\n",
              "    fill: var(--disabled-fill-color);\n",
              "    box-shadow: none;\n",
              "  }\n",
              "\n",
              "  .colab-df-spinner {\n",
              "    border: 2px solid var(--fill-color);\n",
              "    border-color: transparent;\n",
              "    border-bottom-color: var(--fill-color);\n",
              "    animation:\n",
              "      spin 1s steps(1) infinite;\n",
              "  }\n",
              "\n",
              "  @keyframes spin {\n",
              "    0% {\n",
              "      border-color: transparent;\n",
              "      border-bottom-color: var(--fill-color);\n",
              "      border-left-color: var(--fill-color);\n",
              "    }\n",
              "    20% {\n",
              "      border-color: transparent;\n",
              "      border-left-color: var(--fill-color);\n",
              "      border-top-color: var(--fill-color);\n",
              "    }\n",
              "    30% {\n",
              "      border-color: transparent;\n",
              "      border-left-color: var(--fill-color);\n",
              "      border-top-color: var(--fill-color);\n",
              "      border-right-color: var(--fill-color);\n",
              "    }\n",
              "    40% {\n",
              "      border-color: transparent;\n",
              "      border-right-color: var(--fill-color);\n",
              "      border-top-color: var(--fill-color);\n",
              "    }\n",
              "    60% {\n",
              "      border-color: transparent;\n",
              "      border-right-color: var(--fill-color);\n",
              "    }\n",
              "    80% {\n",
              "      border-color: transparent;\n",
              "      border-right-color: var(--fill-color);\n",
              "      border-bottom-color: var(--fill-color);\n",
              "    }\n",
              "    90% {\n",
              "      border-color: transparent;\n",
              "      border-bottom-color: var(--fill-color);\n",
              "    }\n",
              "  }\n",
              "</style>\n",
              "\n",
              "  <script>\n",
              "    async function quickchart(key) {\n",
              "      const quickchartButtonEl =\n",
              "        document.querySelector('#' + key + ' button');\n",
              "      quickchartButtonEl.disabled = true;  // To prevent multiple clicks.\n",
              "      quickchartButtonEl.classList.add('colab-df-spinner');\n",
              "      try {\n",
              "        const charts = await google.colab.kernel.invokeFunction(\n",
              "            'suggestCharts', [key], {});\n",
              "      } catch (error) {\n",
              "        console.error('Error during call to suggestCharts:', error);\n",
              "      }\n",
              "      quickchartButtonEl.classList.remove('colab-df-spinner');\n",
              "      quickchartButtonEl.classList.add('colab-df-quickchart-complete');\n",
              "    }\n",
              "    (() => {\n",
              "      let quickchartButtonEl =\n",
              "        document.querySelector('#df-cebd0689-a038-45b0-8655-b76091668c8f button');\n",
              "      quickchartButtonEl.style.display =\n",
              "        google.colab.kernel.accessAllowed ? 'block' : 'none';\n",
              "    })();\n",
              "  </script>\n",
              "</div>\n",
              "\n",
              "  <div id=\"id_8b1f2d33-0976-4de8-8b5e-081726ba6e78\">\n",
              "    <style>\n",
              "      .colab-df-generate {\n",
              "        background-color: #E8F0FE;\n",
              "        border: none;\n",
              "        border-radius: 50%;\n",
              "        cursor: pointer;\n",
              "        display: none;\n",
              "        fill: #1967D2;\n",
              "        height: 32px;\n",
              "        padding: 0 0 0 0;\n",
              "        width: 32px;\n",
              "      }\n",
              "\n",
              "      .colab-df-generate:hover {\n",
              "        background-color: #E2EBFA;\n",
              "        box-shadow: 0px 1px 2px rgba(60, 64, 67, 0.3), 0px 1px 3px 1px rgba(60, 64, 67, 0.15);\n",
              "        fill: #174EA6;\n",
              "      }\n",
              "\n",
              "      [theme=dark] .colab-df-generate {\n",
              "        background-color: #3B4455;\n",
              "        fill: #D2E3FC;\n",
              "      }\n",
              "\n",
              "      [theme=dark] .colab-df-generate:hover {\n",
              "        background-color: #434B5C;\n",
              "        box-shadow: 0px 1px 3px 1px rgba(0, 0, 0, 0.15);\n",
              "        filter: drop-shadow(0px 1px 2px rgba(0, 0, 0, 0.3));\n",
              "        fill: #FFFFFF;\n",
              "      }\n",
              "    </style>\n",
              "    <button class=\"colab-df-generate\" onclick=\"generateWithVariable('data')\"\n",
              "            title=\"Generate code using this dataframe.\"\n",
              "            style=\"display:none;\">\n",
              "\n",
              "  <svg xmlns=\"http://www.w3.org/2000/svg\" height=\"24px\"viewBox=\"0 0 24 24\"\n",
              "       width=\"24px\">\n",
              "    <path d=\"M7,19H8.4L18.45,9,17,7.55,7,17.6ZM5,21V16.75L18.45,3.32a2,2,0,0,1,2.83,0l1.4,1.43a1.91,1.91,0,0,1,.58,1.4,1.91,1.91,0,0,1-.58,1.4L9.25,21ZM18.45,9,17,7.55Zm-12,3A5.31,5.31,0,0,0,4.9,8.1,5.31,5.31,0,0,0,1,6.5,5.31,5.31,0,0,0,4.9,4.9,5.31,5.31,0,0,0,6.5,1,5.31,5.31,0,0,0,8.1,4.9,5.31,5.31,0,0,0,12,6.5,5.46,5.46,0,0,0,6.5,12Z\"/>\n",
              "  </svg>\n",
              "    </button>\n",
              "    <script>\n",
              "      (() => {\n",
              "      const buttonEl =\n",
              "        document.querySelector('#id_8b1f2d33-0976-4de8-8b5e-081726ba6e78 button.colab-df-generate');\n",
              "      buttonEl.style.display =\n",
              "        google.colab.kernel.accessAllowed ? 'block' : 'none';\n",
              "\n",
              "      buttonEl.onclick = () => {\n",
              "        google.colab.notebook.generateWithVariable('data');\n",
              "      }\n",
              "      })();\n",
              "    </script>\n",
              "  </div>\n",
              "\n",
              "    </div>\n",
              "  </div>\n"
            ],
            "application/vnd.google.colaboratory.intrinsic+json": {
              "type": "dataframe",
              "variable_name": "data"
            }
          },
          "metadata": {}
        }
      ]
    },
    {
      "cell_type": "markdown",
      "source": [
        "### Cargar 100 filas posteriores a las primeras 17000:"
      ],
      "metadata": {
        "id": "c4UBh0-FHpCc"
      }
    },
    {
      "cell_type": "markdown",
      "source": [
        "Seleccionamos las filas 17,000 a 17,100 para obtener 100 datos adicionales que se usarán posteriormente en las predicciones.\n",
        "Estos 100 valores están separados de las 17,000 filas iniciales que usamos previamente, proporcionando un subconjunto específico para ajustar probar el modelo."
      ],
      "metadata": {
        "id": "axz-CK6DeQZy"
      }
    },
    {
      "cell_type": "code",
      "source": [
        "# Seleccionamos las filas 17,000 a 17,100 para las características y la variable de salida\n",
        "X_prediccion = data.iloc[17000:17100, :-1]  # Características de las filas adicionales\n",
        "y_prediccion = data.iloc[17000:17100, -1]   # Variable de salida de las filas adicionales\n",
        "\n",
        "# Verifica el contenido de las filas adicionales\n",
        "#print(X_prediccion.head(10))  # Imprime las primeras 10 filas de X_prediccion\n",
        "#print(y_prediccion.head(10))  # Imprime las primeras 10 filas de y_prediccion"
      ],
      "metadata": {
        "id": "ucohh98aeOJG"
      },
      "execution_count": 471,
      "outputs": []
    },
    {
      "cell_type": "markdown",
      "source": [
        "### Verifica si hay valores nulos en X:"
      ],
      "metadata": {
        "id": "o2yB44S7IHTY"
      }
    },
    {
      "cell_type": "code",
      "source": [
        "print(np.isnan(X).sum())"
      ],
      "metadata": {
        "colab": {
          "base_uri": "https://localhost:8080/"
        },
        "id": "Hj2ItiLW-x3u",
        "outputId": "924cdada-b64a-425e-9aac-9dc3376d48c8"
      },
      "execution_count": 472,
      "outputs": [
        {
          "output_type": "stream",
          "name": "stdout",
          "text": [
            "CS           0\n",
            "Density      0\n",
            "WC           0\n",
            "pH           0\n",
            "EC           0\n",
            "F            0\n",
            "G            0\n",
            "Viscosity    0\n",
            "Purity       0\n",
            "dtype: int64\n"
          ]
        }
      ]
    },
    {
      "cell_type": "markdown",
      "source": [
        "### **Visualizar de otras formas:**\n"
      ],
      "metadata": {
        "id": "S54Lb8cyIVeu"
      }
    },
    {
      "cell_type": "markdown",
      "source": [
        "Imprimimos los nombres de las 9 columnas de características (X) junto con la columna de salida (y) para asegurarnos de que todo esté claro. Luego, usamos un bucle para mostrar los primeros 10 valores de cada columna en X y el valor correspondiente en y. Esto nos ayuda a verificar visualmente los datos y confirmar que las columnas están alineadas correctamente con sus valores."
      ],
      "metadata": {
        "id": "qkkPl9h8IkpL"
      }
    },
    {
      "cell_type": "code",
      "source": [
        "# Supongamos que tienes 9 columnas en X más la columna y\n",
        "print('{:>5s}{:>15s}{:>15s}{:>15s}{:>15s}{:>15s}{:>15s}{:>15s}{:>15s}{:>15s}'.format('X[:,0]','X[:,1]','X[:,2]','X[:,3]','X[:,4]','X[:,5]','X[:,6]','X[:,7]','X[:,8]', 'y')) # Imprime los nombres de las columnas\n",
        "\n",
        "# Ajusta la cantidad de valores que imprimes dentro del loop para que coincida con la cantidad de columnas en X\n",
        "for i in range(10):\n",
        "    print('{:<15.3f}{:<15.3f}{:<15.3f}{:<15.3f}{:<15.3f}{:<15.3f}{:<15.3f}{:<15.3f}{:<15.3f}{:<15.3f}'.format(\n",
        "        X.iloc[i, 0], X.iloc[i, 1], X.iloc[i, 2], X.iloc[i, 3], X.iloc[i, 4], X.iloc[i, 5], X.iloc[i, 6], X.iloc[i, 7], X.iloc[i, 8], y.iloc[i]\n",
        "    ))\n"
      ],
      "metadata": {
        "colab": {
          "base_uri": "https://localhost:8080/"
        },
        "id": "pUsfgQEwmyoZ",
        "outputId": "ff3eb343-1143-41d6-e2fe-68962ac74a77"
      },
      "execution_count": 473,
      "outputs": [
        {
          "output_type": "stream",
          "name": "stdout",
          "text": [
            "X[:,0]         X[:,1]         X[:,2]         X[:,3]         X[:,4]         X[:,5]         X[:,6]         X[:,7]         X[:,8]              y\n",
            "2.810          1.750          23.040         6.290          0.760          39.020         33.630         4844.500       0.680          645.240        \n",
            "9.470          1.820          17.500         7.200          0.710          38.150         34.410         6689.020       0.890          385.850        \n",
            "4.610          1.840          23.720         7.310          0.800          27.470         34.360         6883.600       0.660          639.640        \n",
            "1.770          1.400          16.610         4.010          0.780          31.520         28.150         7167.560       1.000          946.460        \n",
            "6.110          1.250          19.630         4.820          0.900          29.650         42.520         5125.440       1.000          432.620        \n",
            "2.170          1.350          20.670         4.110          0.750          27.190         43.540         3967.300       0.800          593.550        \n",
            "7.150          1.570          13.370         5.790          0.890          43.380         44.940         7384.930       0.950          838.980        \n",
            "3.170          1.230          23.350         6.640          0.850          43.500         36.330         5598.870       0.660          639.640        \n",
            "4.980          1.730          16.600         6.610          0.740          22.490         44.740         8800.100       0.950          238.050        \n",
            "8.490          1.500          15.750         4.500          0.860          49.590         38.130         2675.600       0.820          777.840        \n"
          ]
        }
      ]
    },
    {
      "cell_type": "markdown",
      "source": [
        "Muestra las primeras 5 filas de X"
      ],
      "metadata": {
        "id": "VZxiJ8rLIm5q"
      }
    },
    {
      "cell_type": "code",
      "source": [
        "print(X.head())"
      ],
      "metadata": {
        "colab": {
          "base_uri": "https://localhost:8080/"
        },
        "id": "ededBB5uWiCP",
        "outputId": "6719a415-21de-4810-f535-069c812e7336"
      },
      "execution_count": 474,
      "outputs": [
        {
          "output_type": "stream",
          "name": "stdout",
          "text": [
            "     CS  Density     WC    pH    EC      F      G  Viscosity  Purity\n",
            "0  2.81     1.75  23.04  6.29  0.76  39.02  33.63    4844.50    0.68\n",
            "1  9.47     1.82  17.50  7.20  0.71  38.15  34.41    6689.02    0.89\n",
            "2  4.61     1.84  23.72  7.31  0.80  27.47  34.36    6883.60    0.66\n",
            "3  1.77     1.40  16.61  4.01  0.78  31.52  28.15    7167.56    1.00\n",
            "4  6.11     1.25  19.63  4.82  0.90  29.65  42.52    5125.44    1.00\n"
          ]
        }
      ]
    },
    {
      "cell_type": "markdown",
      "source": [
        "### **Normalizar Caracteristicas**\n",
        " Este es un paso importante en el preprocesamiento de datos en aprendizaje automático, transformamos las caracteristicas a valores similares para hacer que converjan mas rápido"
      ],
      "metadata": {
        "id": "FbAyHYzEXJf3"
      }
    },
    {
      "cell_type": "code",
      "source": [
        "def  featureNormalize(X):\n",
        "    X_norm = X.copy()\n",
        "    mu = np.zeros(X.shape[1])\n",
        "    sigma = np.zeros(X.shape[1])\n",
        "\n",
        "    mu = np.mean(X, axis = 0)\n",
        "    sigma = np.std(X, axis = 0)\n",
        "    X_norm = (X - mu) / sigma\n",
        "\n",
        "    return X_norm, mu, sigma"
      ],
      "metadata": {
        "id": "_AAZzduuWWjq"
      },
      "execution_count": 475,
      "outputs": []
    },
    {
      "cell_type": "code",
      "source": [
        "# Llama a la funcion featureNormalize con el parametro X para obtener los datos normalizados\n",
        "X_norm, mu, sigma = featureNormalize(X)\n",
        "\n",
        "print('Media calculada:\\n', mu)\n",
        "print('Desviación estandar calculada:\\n', sigma)\n",
        "print('Datos normalizados:\\n',X_norm) # Muestra los datos normalizados\n"
      ],
      "metadata": {
        "colab": {
          "base_uri": "https://localhost:8080/"
        },
        "id": "DUtXt3CZX8Om",
        "outputId": "91d79183-c9fa-4308-a309-89843e72b445"
      },
      "execution_count": 476,
      "outputs": [
        {
          "output_type": "stream",
          "name": "stdout",
          "text": [
            "Media calculada:\n",
            " CS              5.520009\n",
            "Density         1.536011\n",
            "WC             18.505411\n",
            "pH              4.999626\n",
            "EC              0.799740\n",
            "F              35.041062\n",
            "G              32.548248\n",
            "Viscosity    5760.697212\n",
            "Purity          0.825161\n",
            "dtype: float64\n",
            "Desviación estandar calculada:\n",
            " CS              2.589688\n",
            "Density         0.187513\n",
            "WC              3.759361\n",
            "pH              1.447492\n",
            "EC              0.057827\n",
            "F               8.644467\n",
            "G               7.196022\n",
            "Viscosity    2461.903897\n",
            "Purity          0.139553\n",
            "dtype: float64\n",
            "Datos normalizados:\n",
            "              CS   Density        WC        pH        EC         F         G  \\\n",
            "0     -1.046462  1.141196  1.206213  0.891455 -0.687226  0.460287  0.150326   \n",
            "1      1.525276  1.514504 -0.267442  1.520129 -1.551880  0.359645  0.258720   \n",
            "2     -0.351397  1.621164  1.387095  1.596122  0.004496 -0.875828  0.251771   \n",
            "3     -1.448054 -0.725344 -0.504184 -0.683683 -0.341365 -0.407320 -0.611205   \n",
            "4      0.227823 -1.525290  0.299144 -0.124095  1.733803 -0.623643  1.385731   \n",
            "...         ...       ...       ...       ...       ...       ...       ...   \n",
            "16995  1.563891 -1.311971  1.453595  1.644482 -0.168434 -0.797165  0.155885   \n",
            "16996 -0.220107  0.074602  1.642457  0.670383 -1.551880 -0.983411  0.128092   \n",
            "16997  1.718350  0.554569  0.876370  1.568488  0.004496  0.709001 -1.324099   \n",
            "16998  0.610108 -0.138717 -1.310172 -0.953115  1.042080 -0.576214 -1.628434   \n",
            "16999 -1.563898 -1.151982 -0.895208  0.677292  1.387942  1.597431 -0.980854   \n",
            "\n",
            "       Viscosity    Purity  \n",
            "0      -0.372150 -1.040181  \n",
            "1       0.377075  0.464621  \n",
            "2       0.456112 -1.183495  \n",
            "3       0.571453  1.252851  \n",
            "4      -0.258035  1.252851  \n",
            "...          ...       ...  \n",
            "16995   0.449832 -1.183495  \n",
            "16996  -1.242594  1.037879  \n",
            "16997   1.676878 -1.541782  \n",
            "16998  -0.927594  1.252851  \n",
            "16999   1.155091 -1.183495  \n",
            "\n",
            "[17000 rows x 9 columns]\n"
          ]
        }
      ]
    },
    {
      "cell_type": "markdown",
      "source": [
        "Añadimos una columna de unos como primera columna en X, el termino de sesgo es un valor constante que se añade a la ecuación de predicción para ajustar la línea de regresión de manera que se alinee mejor con los datos observados"
      ],
      "metadata": {
        "id": "-soAhqN7YZef"
      }
    },
    {
      "cell_type": "markdown",
      "source": [
        "### **Graficar las caracteristicas:**\n",
        "\n",
        "Definimos la función graficarDatos para crear gráficos de dispersión con los datos proporcionados. La función toma x y y como los datos para el gráfico, y xlabel y ylabel para las etiquetas de los ejes. Luego, creamos gráficos de dispersión para cada característica normalizada (X_norm) comparada con el precio de la miel (y). Esto nos permite visualizar cómo cada característica se relaciona con el precio de la miel y entender mejor los datos.\n",
        "\n",
        "* x: Datos que se mostrarán en el eje horizontal (eje x) del gráfico. En este caso, corresponde a una de las características normalizadas de X_norm.\n",
        "\n",
        "* y: Datos que se mostrarán en el eje vertical (eje y) del gráfico. Aquí, es el precio de la miel.\n",
        "\n",
        "* xlabel: Etiqueta para el eje horizontal (eje x). Describe qué representa la variable en el eje x, como \"CS (Puntuación de color)\".\n",
        "\n",
        "* ylabel: Etiqueta para el eje vertical (eje y). Describe qué representa la variable en el eje y, en este caso, el precio de la miel."
      ],
      "metadata": {
        "id": "FCl21HhV5r7h"
      }
    },
    {
      "cell_type": "code",
      "source": [
        "def graficarDatos(x, y, xlabel, ylabel):\n",
        "  fig = pyplot.figure()\n",
        "  pyplot.plot(x, y, 'ro')\n",
        "  pyplot.xlabel(xlabel)\n",
        "  pyplot.ylabel(ylabel)"
      ],
      "metadata": {
        "id": "XvY8CCgd5ya3"
      },
      "execution_count": 477,
      "outputs": []
    },
    {
      "cell_type": "code",
      "source": [
        "xlabel1 = \"CS(Puntuación de color)\"\n",
        "xlabel2 = \"Density(Densidad)\"\n",
        "xlabel3 = \"WC(contenido de agua)\"\n",
        "xlabel4 = \"Nivel de ph\"\n",
        "xlabel5 = \"EC(conductividad eléctrica)\"\n",
        "xlabel6 = \"F(Fructosa)\"\n",
        "xlabel7 = \"G(Glucosa)\"\n",
        "xlabel8 = \"Viscosity(Viscosidad)\"\n",
        "xlabel9 = \"Purity(Pureza)\"\n",
        "ylabel1 = \"Price(Precio de la miel)\"\n",
        "graficarDatos(X_norm['CS'], y, xlabel1, ylabel1)\n",
        "graficarDatos(X_norm['Density'], y, xlabel2, ylabel1)\n",
        "graficarDatos(X_norm['WC'], y, xlabel3, ylabel1)\n",
        "graficarDatos(X_norm['pH'], y, xlabel4, ylabel1)\n",
        "graficarDatos(X_norm['EC'], y, xlabel5, ylabel1)\n",
        "graficarDatos(X_norm['F'], y, xlabel6, ylabel1)\n",
        "graficarDatos(X_norm['G'], y, xlabel7, ylabel1)\n",
        "graficarDatos(X_norm['Viscosity'], y, xlabel8, ylabel1)\n",
        "graficarDatos(X_norm['Purity'], y, xlabel9, ylabel1)"
      ],
      "metadata": {
        "colab": {
          "base_uri": "https://localhost:8080/",
          "height": 1000
        },
        "id": "sRSmoSph53jU",
        "outputId": "7450b3d6-a0c3-4164-be6e-b7b73e21065c"
      },
      "execution_count": 478,
      "outputs": [
        {
          "output_type": "display_data",
          "data": {
            "text/plain": [
              "<Figure size 640x480 with 1 Axes>"
            ],
            "image/png": "[encoded data removed]"
          },
          "metadata": {}
        },
        {
          "output_type": "display_data",
          "data": {
            "text/plain": [
              "<Figure size 640x480 with 1 Axes>"
            ],
            "image/png": "[encoded data removed]"
          },
          "metadata": {}
        },
        {
          "output_type": "display_data",
          "data": {
            "text/plain": [
              "<Figure size 640x480 with 1 Axes>"
            ],
            "image/png": "[encoded data removed]"
          },
          "metadata": {}
        },
        {
          "output_type": "display_data",
          "data": {
            "text/plain": [
              "<Figure size 640x480 with 1 Axes>"
            ],
            "image/png": "[encoded data removed]"
          },
          "metadata": {}
        },
        {
          "output_type": "display_data",
          "data": {
            "text/plain": [
              "<Figure size 640x480 with 1 Axes>"
            ],
            "image/png": "[encoded data removed]"
          },
          "metadata": {}
        },
        {
          "output_type": "display_data",
          "data": {
            "text/plain": [
              "<Figure size 640x480 with 1 Axes>"
            ],
            "image/png": "[encoded data removed]"
          },
          "metadata": {}
        },
        {
          "output_type": "display_data",
          "data": {
            "text/plain": [
              "<Figure size 640x480 with 1 Axes>"
            ],
            "image/png": "[encoded data removed]"
          },
          "metadata": {}
        },
        {
          "output_type": "display_data",
          "data": {
            "text/plain": [
              "<Figure size 640x480 with 1 Axes>"
            ],
            "image/png": "[encoded data removed]"
          },
          "metadata": {}
        },
        {
          "output_type": "display_data",
          "data": {
            "text/plain": [
              "<Figure size 640x480 with 1 Axes>"
            ],
            "image/png": "[encoded data removed]"
          },
          "metadata": {}
        }
      ]
    },
    {
      "cell_type": "markdown",
      "source": [
        "### **Se agrega un termino de interseccion:**\n",
        "\n",
        "Agregamos una columna de 1 a los datos de entrada ya que nos permite representar el término como un parámetro independiente que multiplica a la columna de unos. Esto nos da la flexibilidad de ajustar el modelo para que se ajuste mejor a los datos"
      ],
      "metadata": {
        "id": "mHhlZhvEKAGp"
      }
    },
    {
      "cell_type": "code",
      "source": [
        "X = np.concatenate([np.ones((m, 1)), X_norm], axis=1) #Añadimos una columna de unos a X"
      ],
      "metadata": {
        "id": "pXqUFab3YUmk"
      },
      "execution_count": 479,
      "outputs": []
    },
    {
      "cell_type": "code",
      "source": [
        "print('Datos normalizados (primeras 10 filas):\\n', X_norm[:10])\n",
        "print('Media calculada:\\n', np.mean(X_norm, axis=0))\n",
        "print('Desviación estándar calculada:\\n', np.std(X_norm, axis=0))"
      ],
      "metadata": {
        "colab": {
          "base_uri": "https://localhost:8080/"
        },
        "id": "Ytf79jGLAse3",
        "outputId": "d2e17c42-0934-46af-8064-7ee360bfc723"
      },
      "execution_count": 480,
      "outputs": [
        {
          "output_type": "stream",
          "name": "stdout",
          "text": [
            "Datos normalizados (primeras 10 filas):\n",
            "          CS   Density        WC        pH        EC         F         G  \\\n",
            "0 -1.046462  1.141196  1.206213  0.891455 -0.687226  0.460287  0.150326   \n",
            "1  1.525276  1.514504 -0.267442  1.520129 -1.551880  0.359645  0.258720   \n",
            "2 -0.351397  1.621164  1.387095  1.596122  0.004496 -0.875828  0.251771   \n",
            "3 -1.448054 -0.725344 -0.504184 -0.683683 -0.341365 -0.407320 -0.611205   \n",
            "4  0.227823 -1.525290  0.299144 -0.124095  1.733803 -0.623643  1.385731   \n",
            "5 -1.293596 -0.991992  0.575787 -0.614598 -0.860157 -0.908218  1.527476   \n",
            "6  0.629416  0.181261 -1.366033  0.546030  1.560872  0.964656  1.722028   \n",
            "7 -0.907449 -1.631949  1.288674  1.133253  0.869150  0.978538  0.525534   \n",
            "8 -0.208523  1.034537 -0.506844  1.112527 -1.033088 -1.451919  1.694235   \n",
            "9  1.146853 -0.192047 -0.732947 -0.345167  1.042080  1.683035  0.775672   \n",
            "\n",
            "   Viscosity    Purity  \n",
            "0  -0.372150 -1.040181  \n",
            "1   0.377075  0.464621  \n",
            "2   0.456112 -1.183495  \n",
            "3   0.571453  1.252851  \n",
            "4  -0.258035  1.252851  \n",
            "5  -0.728459 -0.180294  \n",
            "6   0.659747  0.894565  \n",
            "7  -0.065733 -1.183495  \n",
            "8   1.234574  0.894565  \n",
            "9  -1.253135 -0.036979  \n",
            "Media calculada:\n",
            " CS           1.922645e-17\n",
            "Density      4.537024e-16\n",
            "WC          -6.022895e-16\n",
            "pH           7.968528e-16\n",
            "EC          -1.491095e-16\n",
            "F           -6.636260e-16\n",
            "G            6.687461e-18\n",
            "Viscosity   -4.104429e-16\n",
            "Purity      -1.853681e-16\n",
            "dtype: float64\n",
            "Desviación estándar calculada:\n",
            " CS           1.0\n",
            "Density      1.0\n",
            "WC           1.0\n",
            "pH           1.0\n",
            "EC           1.0\n",
            "F            1.0\n",
            "G            1.0\n",
            "Viscosity    1.0\n",
            "Purity       1.0\n",
            "dtype: float64\n"
          ]
        }
      ]
    },
    {
      "cell_type": "markdown",
      "source": [
        "### **Cálculo del costo $J(\\theta)$:**\n",
        "\n",
        "Esta funcion calcula el costo, el costo mide la diferencia entre las predicciones realizadas por el modelo y los valores reales observados en los datos."
      ],
      "metadata": {
        "id": "u2KlKeJ7ZAcE"
      }
    },
    {
      "cell_type": "code",
      "source": [
        "\n",
        "def computeCostMulti(X, y, theta):\n",
        "    # almacenamos en m la cantidad de filas que tiene y\n",
        "    m = y.shape[0]\n",
        "    # variable que almacenara el valor del costo\n",
        "    J = 0\n",
        "    J = (1/(2 * m)) * np.sum(np.square(np.dot(X, theta) - y))\n",
        "    return J"
      ],
      "metadata": {
        "id": "7H0HcPL4Yrqr"
      },
      "execution_count": 481,
      "outputs": []
    },
    {
      "cell_type": "markdown",
      "source": [
        "### **Descenso por el gradiente:**\n",
        "\n",
        "**Funcion descenso de la gradiente**, ajusta los parametros theta del modelo de regresion de manera que se minimice la funcion de costo"
      ],
      "metadata": {
        "id": "5aMu-w6hZnXv"
      }
    },
    {
      "cell_type": "code",
      "source": [
        "def gradientDescentMulti(X, y, theta, alpha, num_iters):\n",
        "    m = y.shape[0] # almacenamos en m la cantidad de filas que tiene \"y\"\n",
        "    theta = theta.copy() # realiza una copia de theta, el cual será acutalizada por el descenso por el gradiente\n",
        "    J_history = [] # una lista que almacenara el valor de la funcion de costo en cada iteracion\n",
        "    for i in range(num_iters):\n",
        "        theta = theta - (alpha / m) * (np.dot(X, theta) - y).dot(X)\n",
        "\n",
        "        # Después de actualizar theta, se calcula el costo actual con computeCostMulti y se guarda en J_history.\n",
        "        J_history.append(computeCostMulti(X, y, theta))\n",
        "    return theta, J_history"
      ],
      "metadata": {
        "id": "p5sseRHDY5I4"
      },
      "execution_count": 482,
      "outputs": []
    },
    {
      "cell_type": "markdown",
      "source": [
        "### Seleccionar coheficientes de aprendizaje para hacer la predicción"
      ],
      "metadata": {
        "id": "t0sUAxK7K6z-"
      }
    },
    {
      "cell_type": "code",
      "source": [
        "# Elegir algun valor para alpha\n",
        "alpha = 0.001\n",
        "num_iters = 10000\n",
        "\n",
        "# inicializa theta y ejecuta el descenso por el gradiente:\n",
        "#theta[0] es el peso asociado con la columna de unos (el sesgo). theta[1] a theta[9] son los pesos asociados con las 9 características de entrada.\n",
        "\n",
        "theta = np.zeros(10) # son solo las 9 columnas de X más 1 que aumentamos de unos (sesgo)\n",
        "theta, J_history = gradientDescentMulti(X, y, theta, alpha, num_iters)\n",
        "\n",
        "# Grafica la convergencia del costo\n",
        "pyplot.plot(np.arange(len(J_history)), J_history, lw=2)\n",
        "pyplot.xlabel('Numero de iteraciones')\n",
        "pyplot.ylabel('Costo J')\n",
        "pyplot.title('Convergencia del Descenso por el Gradiente')\n",
        "pyplot.show()\n",
        "\n",
        "# Muestra los resultados del descenso por el gradiente\n",
        "print('theta calculado por el descenso por el gradiente: {:s}'.format(str(theta)))\n",
        "\n",
        "print('Theta encontrada por descenso gradiente: {:.4f}, {:.4f}'.format(*theta))\n",
        "print(f\"Costo final después de {num_iters} iteraciones: {J_history[-1]:.2f}\")\n"
      ],
      "metadata": {
        "colab": {
          "base_uri": "https://localhost:8080/",
          "height": 563
        },
        "id": "cTXF0InxZYUT",
        "outputId": "9d1d9ad7-6356-4e77-c7c9-670b4f402e24"
      },
      "execution_count": 483,
      "outputs": [
        {
          "output_type": "display_data",
          "data": {
            "text/plain": [
              "<Figure size 640x480 with 1 Axes>"
            ],
            "image/png": "[encoded data removed]"
          },
          "metadata": {}
        },
        {
          "output_type": "stream",
          "name": "stdout",
          "text": [
            "theta calculado por el descenso por el gradiente: [ 5.94878186e+02  1.38705038e+00 -6.58919542e-01  2.79672478e+00\n",
            " -3.75268146e-01 -1.77620628e-02 -3.01807580e-01 -9.62465642e-01\n",
            " -2.02742164e+00  1.02016689e+02]\n",
            "Theta encontrada por descenso gradiente: 594.8782, 1.3871\n",
            "Costo final después de 10000 iteraciones: 22131.90\n"
          ]
        }
      ]
    },
    {
      "cell_type": "markdown",
      "source": [
        "## **PREDICCIONES DE LA REGRESION LINEAL MULTIVARIABLE**"
      ],
      "metadata": {
        "id": "IaygSFMUiNOK"
      }
    },
    {
      "cell_type": "markdown",
      "source": [
        "\n",
        " **Calculamos la Y predicha**\n",
        "\n",
        "Multiplicamos las caracteristicas con la theta y este proceso nos da una estimación de la variable de salida"
      ],
      "metadata": {
        "id": "r4OxPKTYnsxH"
      }
    },
    {
      "cell_type": "code",
      "source": [
        "# Estimar el precio de la miel:\n",
        "#CS(Puntuación de color)\tDensity(Densidad)\tWC(contenido de agua)\tpH\tEC(conductividad eléctrica)\tF(Fructosa)\tG(Glucosa)\tViscosity(Viscosidad)\tPurity(Pureza)\n",
        "X_array = [1,2.81,1.75,23.04,6.29,0.76,39.02,33.63,4844.5,0.68] #El primer valor 1 corresponde a la columna de unos que añadimos previamente a X\n",
        "\n",
        "# Normalizar las características (excepto la columna de unos): X_array[1:10] excluye el primer elemento (X_array[0], que es el sesgo) y toma los siguientes 9 elementos,\n",
        "#que corresponden a las 9 características de entrada.\n",
        "X_array[1:10] = (X_array[1:10] - mu) / sigma\n",
        "\n",
        "Precio = np.dot(X_array, theta) #645.24\n",
        "\n",
        "print('El precio predecido de la miel es: ${:.2f}'.format(Precio))\n"
      ],
      "metadata": {
        "colab": {
          "base_uri": "https://localhost:8080/"
        },
        "id": "c2SNFDzcXiVj",
        "outputId": "76ccc441-2484-496d-9e35-ba8a1681429f"
      },
      "execution_count": 484,
      "outputs": [
        {
          "output_type": "stream",
          "name": "stdout",
          "text": [
            "El precio predecido de la miel es: $490.08\n"
          ]
        }
      ]
    },
    {
      "cell_type": "markdown",
      "source": [
        "### **100 Predicciones**"
      ],
      "metadata": {
        "id": "26-rc7XRbAT0"
      }
    },
    {
      "cell_type": "markdown",
      "source": [
        "Realizo 100 predicciones con los 100 datos establecidos previamente en las variables **X_prediccion** y **y_prediccion**"
      ],
      "metadata": {
        "id": "sz62W877k7JT"
      }
    },
    {
      "cell_type": "code",
      "source": [
        "# Normaliza las características de las filas adicionales\n",
        "X_prediccion_normalized = (X_prediccion - mu) / sigma\n",
        "\n",
        "# Añadir el sesgo (columna de unos) a las características normalizadas\n",
        "X_prediccion_normalized = np.hstack([np.ones((X_prediccion_normalized.shape[0], 1)), X_prediccion_normalized])\n",
        "\n",
        "# Realiza las predicciones\n",
        "predicciones = np.dot(X_prediccion_normalized, theta)\n",
        "\n",
        "# Imprime las predicciones junto con el valor real\n",
        "for i, (prediccion, real) in enumerate(zip(predicciones, y_prediccion), start=1):\n",
        "    print(f\"Predicción {i}: ${prediccion:.0f} - Valor Real: ${real:.0f}\")"
      ],
      "metadata": {
        "colab": {
          "base_uri": "https://localhost:8080/"
        },
        "id": "tO1wLAKKVvoD",
        "outputId": "1b8d0767-7dda-460e-9ffd-47f9e3da8694"
      },
      "execution_count": 485,
      "outputs": [
        {
          "output_type": "stream",
          "name": "stdout",
          "text": [
            "Predicción 1: $721 - Valor Real: $755\n",
            "Predicción 2: $589 - Valor Real: $563\n",
            "Predicción 3: $463 - Valor Real: $622\n",
            "Predicción 4: $690 - Valor Real: $877\n",
            "Predicción 5: $595 - Valor Real: $753\n",
            "Predicción 6: $464 - Valor Real: $345\n",
            "Predicción 7: $579 - Valor Real: $778\n",
            "Predicción 8: $632 - Valor Real: $471\n",
            "Predicción 9: $482 - Valor Real: $211\n",
            "Predicción 10: $721 - Valor Real: $886\n",
            "Predicción 11: $684 - Valor Real: $885\n",
            "Predicción 12: $721 - Valor Real: $919\n",
            "Predicción 13: $473 - Valor Real: $286\n",
            "Predicción 14: $607 - Valor Real: $822\n",
            "Predicción 15: $723 - Valor Real: $543\n",
            "Predicción 16: $466 - Valor Real: $204\n",
            "Predicción 17: $470 - Valor Real: $586\n",
            "Predicción 18: $466 - Valor Real: $500\n",
            "Predicción 19: $635 - Valor Real: $185\n",
            "Predicción 20: $722 - Valor Real: $916\n",
            "Predicción 21: $717 - Valor Real: $939\n",
            "Predicción 22: $472 - Valor Real: $140\n",
            "Predicción 23: $476 - Valor Real: $626\n",
            "Predicción 24: $725 - Valor Real: $251\n",
            "Predicción 25: $722 - Valor Real: $886\n",
            "Predicción 26: $473 - Valor Real: $646\n",
            "Predicción 27: $585 - Valor Real: $748\n",
            "Predicción 28: $641 - Valor Real: $530\n",
            "Predicción 29: $721 - Valor Real: $684\n",
            "Predicción 30: $472 - Valor Real: $620\n",
            "Predicción 31: $724 - Valor Real: $946\n",
            "Predicción 32: $589 - Valor Real: $761\n",
            "Predicción 33: $586 - Valor Real: $790\n",
            "Predicción 34: $589 - Valor Real: $803\n",
            "Predicción 35: $439 - Valor Real: $264\n",
            "Predicción 36: $609 - Valor Real: $797\n",
            "Predicción 37: $462 - Valor Real: $275\n",
            "Predicción 38: $479 - Valor Real: $400\n",
            "Predicción 39: $490 - Valor Real: $171\n",
            "Predicción 40: $605 - Valor Real: $366\n",
            "Predicción 41: $722 - Valor Real: $926\n",
            "Predicción 42: $581 - Valor Real: $168\n",
            "Predicción 43: $725 - Valor Real: $967\n",
            "Predicción 44: $587 - Valor Real: $620\n",
            "Predicción 45: $579 - Valor Real: $168\n",
            "Predicción 46: $678 - Valor Real: $513\n",
            "Predicción 47: $605 - Valor Real: $820\n",
            "Predicción 48: $719 - Valor Real: $926\n",
            "Predicción 49: $722 - Valor Real: $886\n",
            "Predicción 50: $471 - Valor Real: $213\n",
            "Predicción 51: $571 - Valor Real: $602\n",
            "Predicción 52: $724 - Valor Real: $977\n",
            "Predicción 53: $592 - Valor Real: $492\n",
            "Predicción 54: $729 - Valor Real: $745\n",
            "Predicción 55: $686 - Valor Real: $715\n",
            "Predicción 56: $625 - Valor Real: $377\n",
            "Predicción 57: $610 - Valor Real: $271\n",
            "Predicción 58: $722 - Valor Real: $604\n",
            "Predicción 59: $480 - Valor Real: $646\n",
            "Predicción 60: $622 - Valor Real: $808\n",
            "Predicción 61: $477 - Valor Real: $166\n",
            "Predicción 62: $459 - Valor Real: $615\n",
            "Predicción 63: $471 - Valor Real: $166\n",
            "Predicción 64: $442 - Valor Real: $196\n",
            "Predicción 65: $698 - Valor Real: $665\n",
            "Predicción 66: $457 - Valor Real: $134\n",
            "Predicción 67: $703 - Valor Real: $900\n",
            "Predicción 68: $461 - Valor Real: $583\n",
            "Predicción 69: $467 - Valor Real: $613\n",
            "Predicción 70: $652 - Valor Real: $672\n",
            "Predicción 71: $600 - Valor Real: $457\n",
            "Predicción 72: $592 - Valor Real: $798\n",
            "Predicción 73: $479 - Valor Real: $493\n",
            "Predicción 74: $576 - Valor Real: $738\n",
            "Predicción 75: $605 - Valor Real: $797\n",
            "Predicción 76: $462 - Valor Real: $562\n",
            "Predicción 77: $472 - Valor Real: $640\n",
            "Predicción 78: $571 - Valor Real: $596\n",
            "Predicción 79: $730 - Valor Real: $946\n",
            "Predicción 80: $609 - Valor Real: $780\n",
            "Predicción 81: $590 - Valor Real: $617\n",
            "Predicción 82: $480 - Valor Real: $412\n",
            "Predicción 83: $645 - Valor Real: $626\n",
            "Predicción 84: $588 - Valor Real: $620\n",
            "Predicción 85: $473 - Valor Real: $449\n",
            "Predicción 86: $704 - Valor Real: $244\n",
            "Predicción 87: $571 - Valor Real: $345\n",
            "Predicción 88: $721 - Valor Real: $211\n",
            "Predicción 89: $605 - Valor Real: $627\n",
            "Predicción 90: $582 - Valor Real: $544\n",
            "Predicción 91: $604 - Valor Real: $636\n",
            "Predicción 92: $713 - Valor Real: $929\n",
            "Predicción 93: $701 - Valor Real: $857\n",
            "Predicción 94: $725 - Valor Real: $977\n",
            "Predicción 95: $637 - Valor Real: $224\n",
            "Predicción 96: $462 - Valor Real: $160\n",
            "Predicción 97: $724 - Valor Real: $745\n",
            "Predicción 98: $721 - Valor Real: $543\n",
            "Predicción 99: $434 - Valor Real: $577\n",
            "Predicción 100: $585 - Valor Real: $493\n"
          ]
        }
      ]
    },
    {
      "cell_type": "markdown",
      "source": [
        "# **Ecuacion de la normal**\n"
      ],
      "metadata": {
        "id": "-olDPOISMkwY"
      }
    },
    {
      "cell_type": "markdown",
      "source": [
        "### **Importar Librerias**"
      ],
      "metadata": {
        "id": "mt6Zi5ByL2ax"
      }
    },
    {
      "cell_type": "code",
      "source": [
        "import pandas as pd\n",
        "import numpy as np\n",
        "from matplotlib import pyplot"
      ],
      "metadata": {
        "id": "BIqTriSnMnr4"
      },
      "execution_count": 486,
      "outputs": []
    },
    {
      "cell_type": "markdown",
      "source": [
        "### **Cargar Datos:**\n",
        "Cargamos el dataset de pureza de miel desde un archivo CSV y eliminamos la columna Pollen_analysis porque contiene texto, lo cual no es útil para el análisis de regresión que requiere datos numéricos"
      ],
      "metadata": {
        "id": "aRPg6As8Mazm"
      }
    },
    {
      "cell_type": "code",
      "source": [
        "# Cargamos el dataset\n",
        "data = pd.read_csv('/content/gdrive/MyDrive/IA/LaboratoriosOficiales/Lab2-PatziColodroSarahValentina/honey_purity_dataset.csv', delimiter=',')\n",
        "\n",
        "\n",
        "# Eliminamos la columna 'Pollen_analysis' para que no interfiera en el análisis de regresión al ser texto y no numeros\n",
        "data = data.drop('Pollen_analysis', axis=1)\n",
        "\n",
        "# Seleccionamos las primeras 17,000 filas en orden, para poder visualizar de mejor manera las graficas ya que el dataset original cuenta con 247903 datos\n",
        "data = data.iloc[:17000]\n",
        "\n",
        "print(data.shape)"
      ],
      "metadata": {
        "colab": {
          "base_uri": "https://localhost:8080/"
        },
        "id": "PQPI6OWvMzJi",
        "outputId": "e5f4cce9-6ce4-4328-aeca-173a8e8406b7"
      },
      "execution_count": 487,
      "outputs": [
        {
          "output_type": "stream",
          "name": "stdout",
          "text": [
            "(17000, 10)\n"
          ]
        }
      ]
    },
    {
      "cell_type": "markdown",
      "source": [
        "Seleccionamos las columnas del DataFrame data para crear nuestras variables de características y salida. X contiene todas las columnas excepto la última (las características independientes), y y toma solo la última columna (la variable dependiente). Calculamos el número de ejemplos (filas) en y con y.size. Luego, imprimimos las primeras 10 filas de data para verificar que los datos se cargaron correctamente y usamos display(data) para mostrar el DataFrame de manera más visual y formateada."
      ],
      "metadata": {
        "id": "CxUjLiorNkT2"
      }
    },
    {
      "cell_type": "code",
      "source": [
        "# Seleccionamos las columnas independientes (X) y dependiente (y)\n",
        "X = data.iloc[:, :-1]  # Todas las columnas excepto la última\n",
        "y = data.iloc[:, -1]   # Solo la última columna\n",
        "m = y.size\n",
        "\n",
        "# Verifica el contenido del array 'data'\n",
        "print(data.head(10))  # Imprime las primeras 10 filas para asegurarte de que está correcto\n",
        "\n",
        "print('Número de ejemplos (filas): ', m)\n",
        "\n",
        "#se utiliza para mostrar un DataFrame de pandas de manera más visual y formateada\n",
        "display(data)"
      ],
      "metadata": {
        "colab": {
          "base_uri": "https://localhost:8080/",
          "height": 641
        },
        "id": "ht71eU2TNKRt",
        "outputId": "678494be-56d6-42b2-d1fd-ded210b50a25"
      },
      "execution_count": 488,
      "outputs": [
        {
          "output_type": "stream",
          "name": "stdout",
          "text": [
            "     CS  Density     WC    pH    EC      F      G  Viscosity  Purity   Price\n",
            "0  2.81     1.75  23.04  6.29  0.76  39.02  33.63    4844.50    0.68  645.24\n",
            "1  9.47     1.82  17.50  7.20  0.71  38.15  34.41    6689.02    0.89  385.85\n",
            "2  4.61     1.84  23.72  7.31  0.80  27.47  34.36    6883.60    0.66  639.64\n",
            "3  1.77     1.40  16.61  4.01  0.78  31.52  28.15    7167.56    1.00  946.46\n",
            "4  6.11     1.25  19.63  4.82  0.90  29.65  42.52    5125.44    1.00  432.62\n",
            "5  2.17     1.35  20.67  4.11  0.75  27.19  43.54    3967.30    0.80  593.55\n",
            "6  7.15     1.57  13.37  5.79  0.89  43.38  44.94    7384.93    0.95  838.98\n",
            "7  3.17     1.23  23.35  6.64  0.85  43.50  36.33    5598.87    0.66  639.64\n",
            "8  4.98     1.73  16.60  6.61  0.74  22.49  44.74    8800.10    0.95  238.05\n",
            "9  8.49     1.50  15.75  4.50  0.86  49.59  38.13    2675.60    0.82  777.84\n",
            "Número de ejemplos (filas):  17000\n"
          ]
        },
        {
          "output_type": "display_data",
          "data": {
            "text/plain": [
              "         CS  Density     WC    pH    EC      F      G  Viscosity  Purity  \\\n",
              "0      2.81     1.75  23.04  6.29  0.76  39.02  33.63    4844.50    0.68   \n",
              "1      9.47     1.82  17.50  7.20  0.71  38.15  34.41    6689.02    0.89   \n",
              "2      4.61     1.84  23.72  7.31  0.80  27.47  34.36    6883.60    0.66   \n",
              "3      1.77     1.40  16.61  4.01  0.78  31.52  28.15    7167.56    1.00   \n",
              "4      6.11     1.25  19.63  4.82  0.90  29.65  42.52    5125.44    1.00   \n",
              "...     ...      ...    ...   ...   ...    ...    ...        ...     ...   \n",
              "16995  9.57     1.29  23.97  7.38  0.79  28.15  33.67    6868.14    0.66   \n",
              "16996  4.95     1.55  24.68  5.97  0.71  26.54  33.47    2701.55    0.97   \n",
              "16997  9.97     1.64  21.80  7.27  0.80  41.17  23.02    9889.01    0.61   \n",
              "16998  7.10     1.51  13.58  3.62  0.86  30.06  20.83    3477.05    1.00   \n",
              "16999  1.47     1.32  15.14  5.98  0.88  48.85  25.49    8604.42    0.66   \n",
              "\n",
              "        Price  \n",
              "0      645.24  \n",
              "1      385.85  \n",
              "2      639.64  \n",
              "3      946.46  \n",
              "4      432.62  \n",
              "...       ...  \n",
              "16995  492.92  \n",
              "16996  244.34  \n",
              "16997  595.49  \n",
              "16998  976.69  \n",
              "16999  619.63  \n",
              "\n",
              "[17000 rows x 10 columns]"
            ],
            "text/html": [
              "\n",
              "  <div id=\"df-5a3bba9f-12ed-4993-8458-b5b817a9df28\" class=\"colab-df-container\">\n",
              "    <div>\n",
              "<style scoped>\n",
              "    .dataframe tbody tr th:only-of-type {\n",
              "        vertical-align: middle;\n",
              "    }\n",
              "\n",
              "    .dataframe tbody tr th {\n",
              "        vertical-align: top;\n",
              "    }\n",
              "\n",
              "    .dataframe thead th {\n",
              "        text-align: right;\n",
              "    }\n",
              "</style>\n",
              "<table border=\"1\" class=\"dataframe\">\n",
              "  <thead>\n",
              "    <tr style=\"text-align: right;\">\n",
              "      <th></th>\n",
              "      <th>CS</th>\n",
              "      <th>Density</th>\n",
              "      <th>WC</th>\n",
              "      <th>pH</th>\n",
              "      <th>EC</th>\n",
              "      <th>F</th>\n",
              "      <th>G</th>\n",
              "      <th>Viscosity</th>\n",
              "      <th>Purity</th>\n",
              "      <th>Price</th>\n",
              "    </tr>\n",
              "  </thead>\n",
              "  <tbody>\n",
              "    <tr>\n",
              "      <th>0</th>\n",
              "      <td>2.81</td>\n",
              "      <td>1.75</td>\n",
              "      <td>23.04</td>\n",
              "      <td>6.29</td>\n",
              "      <td>0.76</td>\n",
              "      <td>39.02</td>\n",
              "      <td>33.63</td>\n",
              "      <td>4844.50</td>\n",
              "      <td>0.68</td>\n",
              "      <td>645.24</td>\n",
              "    </tr>\n",
              "    <tr>\n",
              "      <th>1</th>\n",
              "      <td>9.47</td>\n",
              "      <td>1.82</td>\n",
              "      <td>17.50</td>\n",
              "      <td>7.20</td>\n",
              "      <td>0.71</td>\n",
              "      <td>38.15</td>\n",
              "      <td>34.41</td>\n",
              "      <td>6689.02</td>\n",
              "      <td>0.89</td>\n",
              "      <td>385.85</td>\n",
              "    </tr>\n",
              "    <tr>\n",
              "      <th>2</th>\n",
              "      <td>4.61</td>\n",
              "      <td>1.84</td>\n",
              "      <td>23.72</td>\n",
              "      <td>7.31</td>\n",
              "      <td>0.80</td>\n",
              "      <td>27.47</td>\n",
              "      <td>34.36</td>\n",
              "      <td>6883.60</td>\n",
              "      <td>0.66</td>\n",
              "      <td>639.64</td>\n",
              "    </tr>\n",
              "    <tr>\n",
              "      <th>3</th>\n",
              "      <td>1.77</td>\n",
              "      <td>1.40</td>\n",
              "      <td>16.61</td>\n",
              "      <td>4.01</td>\n",
              "      <td>0.78</td>\n",
              "      <td>31.52</td>\n",
              "      <td>28.15</td>\n",
              "      <td>7167.56</td>\n",
              "      <td>1.00</td>\n",
              "      <td>946.46</td>\n",
              "    </tr>\n",
              "    <tr>\n",
              "      <th>4</th>\n",
              "      <td>6.11</td>\n",
              "      <td>1.25</td>\n",
              "      <td>19.63</td>\n",
              "      <td>4.82</td>\n",
              "      <td>0.90</td>\n",
              "      <td>29.65</td>\n",
              "      <td>42.52</td>\n",
              "      <td>5125.44</td>\n",
              "      <td>1.00</td>\n",
              "      <td>432.62</td>\n",
              "    </tr>\n",
              "    <tr>\n",
              "      <th>...</th>\n",
              "      <td>...</td>\n",
              "      <td>...</td>\n",
              "      <td>...</td>\n",
              "      <td>...</td>\n",
              "      <td>...</td>\n",
              "      <td>...</td>\n",
              "      <td>...</td>\n",
              "      <td>...</td>\n",
              "      <td>...</td>\n",
              "      <td>...</td>\n",
              "    </tr>\n",
              "    <tr>\n",
              "      <th>16995</th>\n",
              "      <td>9.57</td>\n",
              "      <td>1.29</td>\n",
              "      <td>23.97</td>\n",
              "      <td>7.38</td>\n",
              "      <td>0.79</td>\n",
              "      <td>28.15</td>\n",
              "      <td>33.67</td>\n",
              "      <td>6868.14</td>\n",
              "      <td>0.66</td>\n",
              "      <td>492.92</td>\n",
              "    </tr>\n",
              "    <tr>\n",
              "      <th>16996</th>\n",
              "      <td>4.95</td>\n",
              "      <td>1.55</td>\n",
              "      <td>24.68</td>\n",
              "      <td>5.97</td>\n",
              "      <td>0.71</td>\n",
              "      <td>26.54</td>\n",
              "      <td>33.47</td>\n",
              "      <td>2701.55</td>\n",
              "      <td>0.97</td>\n",
              "      <td>244.34</td>\n",
              "    </tr>\n",
              "    <tr>\n",
              "      <th>16997</th>\n",
              "      <td>9.97</td>\n",
              "      <td>1.64</td>\n",
              "      <td>21.80</td>\n",
              "      <td>7.27</td>\n",
              "      <td>0.80</td>\n",
              "      <td>41.17</td>\n",
              "      <td>23.02</td>\n",
              "      <td>9889.01</td>\n",
              "      <td>0.61</td>\n",
              "      <td>595.49</td>\n",
              "    </tr>\n",
              "    <tr>\n",
              "      <th>16998</th>\n",
              "      <td>7.10</td>\n",
              "      <td>1.51</td>\n",
              "      <td>13.58</td>\n",
              "      <td>3.62</td>\n",
              "      <td>0.86</td>\n",
              "      <td>30.06</td>\n",
              "      <td>20.83</td>\n",
              "      <td>3477.05</td>\n",
              "      <td>1.00</td>\n",
              "      <td>976.69</td>\n",
              "    </tr>\n",
              "    <tr>\n",
              "      <th>16999</th>\n",
              "      <td>1.47</td>\n",
              "      <td>1.32</td>\n",
              "      <td>15.14</td>\n",
              "      <td>5.98</td>\n",
              "      <td>0.88</td>\n",
              "      <td>48.85</td>\n",
              "      <td>25.49</td>\n",
              "      <td>8604.42</td>\n",
              "      <td>0.66</td>\n",
              "      <td>619.63</td>\n",
              "    </tr>\n",
              "  </tbody>\n",
              "</table>\n",
              "<p>17000 rows × 10 columns</p>\n",
              "</div>\n",
              "    <div class=\"colab-df-buttons\">\n",
              "\n",
              "  <div class=\"colab-df-container\">\n",
              "    <button class=\"colab-df-convert\" onclick=\"convertToInteractive('df-5a3bba9f-12ed-4993-8458-b5b817a9df28')\"\n",
              "            title=\"Convert this dataframe to an interactive table.\"\n",
              "            style=\"display:none;\">\n",
              "\n",
              "  <svg xmlns=\"http://www.w3.org/2000/svg\" height=\"24px\" viewBox=\"0 -960 960 960\">\n",
              "    <path d=\"M120-120v-720h720v720H120Zm60-500h600v-160H180v160Zm220 220h160v-160H400v160Zm0 220h160v-160H400v160ZM180-400h160v-160H180v160Zm440 0h160v-160H620v160ZM180-180h160v-160H180v160Zm440 0h160v-160H620v160Z\"/>\n",
              "  </svg>\n",
              "    </button>\n",
              "\n",
              "  <style>\n",
              "    .colab-df-container {\n",
              "      display:flex;\n",
              "      gap: 12px;\n",
              "    }\n",
              "\n",
              "    .colab-df-convert {\n",
              "      background-color: #E8F0FE;\n",
              "      border: none;\n",
              "      border-radius: 50%;\n",
              "      cursor: pointer;\n",
              "      display: none;\n",
              "      fill: #1967D2;\n",
              "      height: 32px;\n",
              "      padding: 0 0 0 0;\n",
              "      width: 32px;\n",
              "    }\n",
              "\n",
              "    .colab-df-convert:hover {\n",
              "      background-color: #E2EBFA;\n",
              "      box-shadow: 0px 1px 2px rgba(60, 64, 67, 0.3), 0px 1px 3px 1px rgba(60, 64, 67, 0.15);\n",
              "      fill: #174EA6;\n",
              "    }\n",
              "\n",
              "    .colab-df-buttons div {\n",
              "      margin-bottom: 4px;\n",
              "    }\n",
              "\n",
              "    [theme=dark] .colab-df-convert {\n",
              "      background-color: #3B4455;\n",
              "      fill: #D2E3FC;\n",
              "    }\n",
              "\n",
              "    [theme=dark] .colab-df-convert:hover {\n",
              "      background-color: #434B5C;\n",
              "      box-shadow: 0px 1px 3px 1px rgba(0, 0, 0, 0.15);\n",
              "      filter: drop-shadow(0px 1px 2px rgba(0, 0, 0, 0.3));\n",
              "      fill: #FFFFFF;\n",
              "    }\n",
              "  </style>\n",
              "\n",
              "    <script>\n",
              "      const buttonEl =\n",
              "        document.querySelector('#df-5a3bba9f-12ed-4993-8458-b5b817a9df28 button.colab-df-convert');\n",
              "      buttonEl.style.display =\n",
              "        google.colab.kernel.accessAllowed ? 'block' : 'none';\n",
              "\n",
              "      async function convertToInteractive(key) {\n",
              "        const element = document.querySelector('#df-5a3bba9f-12ed-4993-8458-b5b817a9df28');\n",
              "        const dataTable =\n",
              "          await google.colab.kernel.invokeFunction('convertToInteractive',\n",
              "                                                    [key], {});\n",
              "        if (!dataTable) return;\n",
              "\n",
              "        const docLinkHtml = 'Like what you see? Visit the ' +\n",
              "          '<a target=\"_blank\" href=https://colab.research.google.com/notebooks/data_table.ipynb>data table notebook</a>'\n",
              "          + ' to learn more about interactive tables.';\n",
              "        element.innerHTML = '';\n",
              "        dataTable['output_type'] = 'display_data';\n",
              "        await google.colab.output.renderOutput(dataTable, element);\n",
              "        const docLink = document.createElement('div');\n",
              "        docLink.innerHTML = docLinkHtml;\n",
              "        element.appendChild(docLink);\n",
              "      }\n",
              "    </script>\n",
              "  </div>\n",
              "\n",
              "\n",
              "<div id=\"df-c118ddd5-1667-41a1-a19d-d7d3d3245d03\">\n",
              "  <button class=\"colab-df-quickchart\" onclick=\"quickchart('df-c118ddd5-1667-41a1-a19d-d7d3d3245d03')\"\n",
              "            title=\"Suggest charts\"\n",
              "            style=\"display:none;\">\n",
              "\n",
              "<svg xmlns=\"http://www.w3.org/2000/svg\" height=\"24px\"viewBox=\"0 0 24 24\"\n",
              "     width=\"24px\">\n",
              "    <g>\n",
              "        <path d=\"M19 3H5c-1.1 0-2 .9-2 2v14c0 1.1.9 2 2 2h14c1.1 0 2-.9 2-2V5c0-1.1-.9-2-2-2zM9 17H7v-7h2v7zm4 0h-2V7h2v10zm4 0h-2v-4h2v4z\"/>\n",
              "    </g>\n",
              "</svg>\n",
              "  </button>\n",
              "\n",
              "<style>\n",
              "  .colab-df-quickchart {\n",
              "      --bg-color: #E8F0FE;\n",
              "      --fill-color: #1967D2;\n",
              "      --hover-bg-color: #E2EBFA;\n",
              "      --hover-fill-color: #174EA6;\n",
              "      --disabled-fill-color: #AAA;\n",
              "      --disabled-bg-color: #DDD;\n",
              "  }\n",
              "\n",
              "  [theme=dark] .colab-df-quickchart {\n",
              "      --bg-color: #3B4455;\n",
              "      --fill-color: #D2E3FC;\n",
              "      --hover-bg-color: #434B5C;\n",
              "      --hover-fill-color: #FFFFFF;\n",
              "      --disabled-bg-color: #3B4455;\n",
              "      --disabled-fill-color: #666;\n",
              "  }\n",
              "\n",
              "  .colab-df-quickchart {\n",
              "    background-color: var(--bg-color);\n",
              "    border: none;\n",
              "    border-radius: 50%;\n",
              "    cursor: pointer;\n",
              "    display: none;\n",
              "    fill: var(--fill-color);\n",
              "    height: 32px;\n",
              "    padding: 0;\n",
              "    width: 32px;\n",
              "  }\n",
              "\n",
              "  .colab-df-quickchart:hover {\n",
              "    background-color: var(--hover-bg-color);\n",
              "    box-shadow: 0 1px 2px rgba(60, 64, 67, 0.3), 0 1px 3px 1px rgba(60, 64, 67, 0.15);\n",
              "    fill: var(--button-hover-fill-color);\n",
              "  }\n",
              "\n",
              "  .colab-df-quickchart-complete:disabled,\n",
              "  .colab-df-quickchart-complete:disabled:hover {\n",
              "    background-color: var(--disabled-bg-color);\n",
              "    fill: var(--disabled-fill-color);\n",
              "    box-shadow: none;\n",
              "  }\n",
              "\n",
              "  .colab-df-spinner {\n",
              "    border: 2px solid var(--fill-color);\n",
              "    border-color: transparent;\n",
              "    border-bottom-color: var(--fill-color);\n",
              "    animation:\n",
              "      spin 1s steps(1) infinite;\n",
              "  }\n",
              "\n",
              "  @keyframes spin {\n",
              "    0% {\n",
              "      border-color: transparent;\n",
              "      border-bottom-color: var(--fill-color);\n",
              "      border-left-color: var(--fill-color);\n",
              "    }\n",
              "    20% {\n",
              "      border-color: transparent;\n",
              "      border-left-color: var(--fill-color);\n",
              "      border-top-color: var(--fill-color);\n",
              "    }\n",
              "    30% {\n",
              "      border-color: transparent;\n",
              "      border-left-color: var(--fill-color);\n",
              "      border-top-color: var(--fill-color);\n",
              "      border-right-color: var(--fill-color);\n",
              "    }\n",
              "    40% {\n",
              "      border-color: transparent;\n",
              "      border-right-color: var(--fill-color);\n",
              "      border-top-color: var(--fill-color);\n",
              "    }\n",
              "    60% {\n",
              "      border-color: transparent;\n",
              "      border-right-color: var(--fill-color);\n",
              "    }\n",
              "    80% {\n",
              "      border-color: transparent;\n",
              "      border-right-color: var(--fill-color);\n",
              "      border-bottom-color: var(--fill-color);\n",
              "    }\n",
              "    90% {\n",
              "      border-color: transparent;\n",
              "      border-bottom-color: var(--fill-color);\n",
              "    }\n",
              "  }\n",
              "</style>\n",
              "\n",
              "  <script>\n",
              "    async function quickchart(key) {\n",
              "      const quickchartButtonEl =\n",
              "        document.querySelector('#' + key + ' button');\n",
              "      quickchartButtonEl.disabled = true;  // To prevent multiple clicks.\n",
              "      quickchartButtonEl.classList.add('colab-df-spinner');\n",
              "      try {\n",
              "        const charts = await google.colab.kernel.invokeFunction(\n",
              "            'suggestCharts', [key], {});\n",
              "      } catch (error) {\n",
              "        console.error('Error during call to suggestCharts:', error);\n",
              "      }\n",
              "      quickchartButtonEl.classList.remove('colab-df-spinner');\n",
              "      quickchartButtonEl.classList.add('colab-df-quickchart-complete');\n",
              "    }\n",
              "    (() => {\n",
              "      let quickchartButtonEl =\n",
              "        document.querySelector('#df-c118ddd5-1667-41a1-a19d-d7d3d3245d03 button');\n",
              "      quickchartButtonEl.style.display =\n",
              "        google.colab.kernel.accessAllowed ? 'block' : 'none';\n",
              "    })();\n",
              "  </script>\n",
              "</div>\n",
              "\n",
              "  <div id=\"id_88dcc583-ccd1-4a76-9945-a844133d5eaa\">\n",
              "    <style>\n",
              "      .colab-df-generate {\n",
              "        background-color: #E8F0FE;\n",
              "        border: none;\n",
              "        border-radius: 50%;\n",
              "        cursor: pointer;\n",
              "        display: none;\n",
              "        fill: #1967D2;\n",
              "        height: 32px;\n",
              "        padding: 0 0 0 0;\n",
              "        width: 32px;\n",
              "      }\n",
              "\n",
              "      .colab-df-generate:hover {\n",
              "        background-color: #E2EBFA;\n",
              "        box-shadow: 0px 1px 2px rgba(60, 64, 67, 0.3), 0px 1px 3px 1px rgba(60, 64, 67, 0.15);\n",
              "        fill: #174EA6;\n",
              "      }\n",
              "\n",
              "      [theme=dark] .colab-df-generate {\n",
              "        background-color: #3B4455;\n",
              "        fill: #D2E3FC;\n",
              "      }\n",
              "\n",
              "      [theme=dark] .colab-df-generate:hover {\n",
              "        background-color: #434B5C;\n",
              "        box-shadow: 0px 1px 3px 1px rgba(0, 0, 0, 0.15);\n",
              "        filter: drop-shadow(0px 1px 2px rgba(0, 0, 0, 0.3));\n",
              "        fill: #FFFFFF;\n",
              "      }\n",
              "    </style>\n",
              "    <button class=\"colab-df-generate\" onclick=\"generateWithVariable('data')\"\n",
              "            title=\"Generate code using this dataframe.\"\n",
              "            style=\"display:none;\">\n",
              "\n",
              "  <svg xmlns=\"http://www.w3.org/2000/svg\" height=\"24px\"viewBox=\"0 0 24 24\"\n",
              "       width=\"24px\">\n",
              "    <path d=\"M7,19H8.4L18.45,9,17,7.55,7,17.6ZM5,21V16.75L18.45,3.32a2,2,0,0,1,2.83,0l1.4,1.43a1.91,1.91,0,0,1,.58,1.4,1.91,1.91,0,0,1-.58,1.4L9.25,21ZM18.45,9,17,7.55Zm-12,3A5.31,5.31,0,0,0,4.9,8.1,5.31,5.31,0,0,0,1,6.5,5.31,5.31,0,0,0,4.9,4.9,5.31,5.31,0,0,0,6.5,1,5.31,5.31,0,0,0,8.1,4.9,5.31,5.31,0,0,0,12,6.5,5.46,5.46,0,0,0,6.5,12Z\"/>\n",
              "  </svg>\n",
              "    </button>\n",
              "    <script>\n",
              "      (() => {\n",
              "      const buttonEl =\n",
              "        document.querySelector('#id_88dcc583-ccd1-4a76-9945-a844133d5eaa button.colab-df-generate');\n",
              "      buttonEl.style.display =\n",
              "        google.colab.kernel.accessAllowed ? 'block' : 'none';\n",
              "\n",
              "      buttonEl.onclick = () => {\n",
              "        google.colab.notebook.generateWithVariable('data');\n",
              "      }\n",
              "      })();\n",
              "    </script>\n",
              "  </div>\n",
              "\n",
              "    </div>\n",
              "  </div>\n"
            ],
            "application/vnd.google.colaboratory.intrinsic+json": {
              "type": "dataframe",
              "variable_name": "data",
              "summary": "{\n  \"name\": \"data\",\n  \"rows\": 17000,\n  \"fields\": [\n    {\n      \"column\": \"CS\",\n      \"properties\": {\n        \"dtype\": \"number\",\n        \"std\": 2.5897644893901366,\n        \"min\": 1.0,\n        \"max\": 10.0,\n        \"num_unique_values\": 901,\n        \"samples\": [\n          3.8,\n          3.37,\n          8.23\n        ],\n        \"semantic_type\": \"\",\n        \"description\": \"\"\n      }\n    },\n    {\n      \"column\": \"Density\",\n      \"properties\": {\n        \"dtype\": \"number\",\n        \"std\": 0.18751821573598146,\n        \"min\": 1.21,\n        \"max\": 1.86,\n        \"num_unique_values\": 66,\n        \"samples\": [\n          1.7,\n          1.85,\n          1.75\n        ],\n        \"semantic_type\": \"\",\n        \"description\": \"\"\n      }\n    },\n    {\n      \"column\": \"WC\",\n      \"properties\": {\n        \"dtype\": \"number\",\n        \"std\": 3.75947136896437,\n        \"min\": 12.0,\n        \"max\": 25.0,\n        \"num_unique_values\": 1301,\n        \"samples\": [\n          21.91,\n          13.9,\n          16.22\n        ],\n        \"semantic_type\": \"\",\n        \"description\": \"\"\n      }\n    },\n    {\n      \"column\": \"pH\",\n      \"properties\": {\n        \"dtype\": \"number\",\n        \"std\": 1.4475345607357661,\n        \"min\": 2.5,\n        \"max\": 7.5,\n        \"num_unique_values\": 501,\n        \"samples\": [\n          3.23,\n          7.07,\n          6.65\n        ],\n        \"semantic_type\": \"\",\n        \"description\": \"\"\n      }\n    },\n    {\n      \"column\": \"EC\",\n      \"properties\": {\n        \"dtype\": \"number\",\n        \"std\": 0.05782834381234949,\n        \"min\": 0.7,\n        \"max\": 0.9,\n        \"num_unique_values\": 21,\n        \"samples\": [\n          0.76,\n          0.77,\n          0.79\n        ],\n        \"semantic_type\": \"\",\n        \"description\": \"\"\n      }\n    },\n    {\n      \"column\": \"F\",\n      \"properties\": {\n        \"dtype\": \"number\",\n        \"std\": 8.644721063836581,\n        \"min\": 20.0,\n        \"max\": 50.0,\n        \"num_unique_values\": 2994,\n        \"samples\": [\n          33.98,\n          24.04,\n          32.17\n        ],\n        \"semantic_type\": \"\",\n        \"description\": \"\"\n      }\n    },\n    {\n      \"column\": \"G\",\n      \"properties\": {\n        \"dtype\": \"number\",\n        \"std\": 7.1962340511301495,\n        \"min\": 20.0,\n        \"max\": 45.0,\n        \"num_unique_values\": 2500,\n        \"samples\": [\n          31.16,\n          30.44,\n          44.56\n        ],\n        \"semantic_type\": \"\",\n        \"description\": \"\"\n      }\n    },\n    {\n      \"column\": \"Viscosity\",\n      \"properties\": {\n        \"dtype\": \"number\",\n        \"std\": 2461.976308711021,\n        \"min\": 1500.49,\n        \"max\": 9999.85,\n        \"num_unique_values\": 16842,\n        \"samples\": [\n          9307.76,\n          6072.42,\n          5638.05\n        ],\n        \"semantic_type\": \"\",\n        \"description\": \"\"\n      }\n    },\n    {\n      \"column\": \"Purity\",\n      \"properties\": {\n        \"dtype\": \"number\",\n        \"std\": 0.13955733332543305,\n        \"min\": 0.61,\n        \"max\": 1.0,\n        \"num_unique_values\": 24,\n        \"samples\": [\n          0.84,\n          0.61,\n          0.68\n        ],\n        \"semantic_type\": \"\",\n        \"description\": \"\"\n      }\n    },\n    {\n      \"column\": \"Price\",\n      \"properties\": {\n        \"dtype\": \"number\",\n        \"std\": 233.92969303016983,\n        \"min\": 128.72,\n        \"max\": 976.69,\n        \"num_unique_values\": 673,\n        \"samples\": [\n          844.53,\n          490.1,\n          884.83\n        ],\n        \"semantic_type\": \"\",\n        \"description\": \"\"\n      }\n    }\n  ]\n}"
            }
          },
          "metadata": {}
        }
      ]
    },
    {
      "cell_type": "code",
      "source": [
        "print(X.head()) # Muestra las primeras 5 filas de X"
      ],
      "metadata": {
        "colab": {
          "base_uri": "https://localhost:8080/"
        },
        "id": "t1xI1Rl-NMmT",
        "outputId": "28c95f0b-d3f9-4999-af3f-a7825d158327"
      },
      "execution_count": 489,
      "outputs": [
        {
          "output_type": "stream",
          "name": "stdout",
          "text": [
            "     CS  Density     WC    pH    EC      F      G  Viscosity  Purity\n",
            "0  2.81     1.75  23.04  6.29  0.76  39.02  33.63    4844.50    0.68\n",
            "1  9.47     1.82  17.50  7.20  0.71  38.15  34.41    6689.02    0.89\n",
            "2  4.61     1.84  23.72  7.31  0.80  27.47  34.36    6883.60    0.66\n",
            "3  1.77     1.40  16.61  4.01  0.78  31.52  28.15    7167.56    1.00\n",
            "4  6.11     1.25  19.63  4.82  0.90  29.65  42.52    5125.44    1.00\n"
          ]
        }
      ]
    },
    {
      "cell_type": "markdown",
      "source": [
        "### **Añadimos una columna de unos**\n",
        "esta línea de código añade una columna de unos a X para incluir un término de sesgo en el modelo de regresión lineal. Este término de sesgo es necesario para calcular la intersección en la ecuación de la recta de regresión."
      ],
      "metadata": {
        "id": "7NSCZ13zN-H5"
      }
    },
    {
      "cell_type": "code",
      "source": [
        "X = np.concatenate([np.ones((m, 1)), X], axis=1)"
      ],
      "metadata": {
        "id": "uxFH5cD7NOmJ"
      },
      "execution_count": 490,
      "outputs": []
    },
    {
      "cell_type": "markdown",
      "source": [
        "### **Agregamos la funcion de la ecuación de la normal:**"
      ],
      "metadata": {
        "id": "obiVP9OUORSq"
      }
    },
    {
      "cell_type": "code",
      "source": [
        "# Funcion de la ecuacion de la normal, obtenemos valores optimos\n",
        "def normalEqn(X, y):\n",
        "    theta = np.zeros(X.shape[1])\n",
        "    theta = np.dot(np.dot(np.linalg.inv(np.dot(X.T,X)),X.T),y)\n",
        "    return theta"
      ],
      "metadata": {
        "id": "HFKlgzixNQ0P"
      },
      "execution_count": 491,
      "outputs": []
    },
    {
      "cell_type": "markdown",
      "source": [
        "### **Hacemos el calculo de theta haciendo uso de la ecuación de la Normal:**"
      ],
      "metadata": {
        "id": "eEYO_9ytOlXm"
      }
    },
    {
      "cell_type": "code",
      "source": [
        "# Calcula los parametros con la ecuación de la normal\n",
        "theta = normalEqn(X, y)\n",
        "\n",
        "# Muestra los resultados obtenidos a partir de la aplicación de la ecuación de la normal\n",
        "print('Theta calculado a partir de la ecuación de la normal: {:s}'.format(str(theta)))\n",
        "X_array = [1,2.81,1.75,23.04,6.29,0.76,39.02,33.63,4844.5,0.68]\n",
        "price = np.dot(X_array, theta)\n",
        "\n",
        "print('Precio de miel (usando la ecuación de la normal): ${:.3f}'.format(price))"
      ],
      "metadata": {
        "colab": {
          "base_uri": "https://localhost:8080/"
        },
        "id": "14nNVodxNTIB",
        "outputId": "735f8f93-b530-49f3-9a9c-35091649266d"
      },
      "execution_count": 492,
      "outputs": [
        {
          "output_type": "stream",
          "name": "stdout",
          "text": [
            "Theta calculado a partir de la ecuación de la normal: [-8.18647241e+00  5.31750762e-01 -3.44359323e+00  7.45175943e-01\n",
            " -2.38301836e-01 -3.24201502e-01 -3.47569499e-02 -1.33501382e-01\n",
            " -8.24695406e-04  7.31276501e+02]\n",
            "Precio de miel (usando la ecuación de la normal): $490.132\n"
          ]
        }
      ]
    },
    {
      "cell_type": "markdown",
      "source": [
        "### Prediccion inicial:"
      ],
      "metadata": {
        "id": "MdWf29RNOrZB"
      }
    },
    {
      "cell_type": "code",
      "source": [
        "# Prediccion 1 ecuacion de la normal\n",
        "X_array = [1,3.17, 1.60, 20.08, 7.00, 0.60, 30.78, 30.39, 4763.3, 0.70]\n",
        "price = np.dot(X_array, theta)\n",
        "\n",
        "print('Precio predecido : ${:.2f}'.format(price))"
      ],
      "metadata": {
        "colab": {
          "base_uri": "https://localhost:8080/"
        },
        "id": "VOdzKiXLAgN6",
        "outputId": "18ed0046-8657-47ba-8952-1037adc3c597"
      },
      "execution_count": 493,
      "outputs": [
        {
          "output_type": "stream",
          "name": "stdout",
          "text": [
            "Precio predecido : $503.93\n"
          ]
        }
      ]
    },
    {
      "cell_type": "markdown",
      "source": [
        "### **100 Predicciones de Ejemplo Ecuación de la Normal**\n",
        "\n",
        "En este código, estamos generando ejemplos aleatorios para probar cómo cambia el precio de la miel basado en una ecuación de regresión.\n",
        "* for i in range(100):\n",
        "Ejecuta el bucle 100 veces para generar 100 ejemplos.\n",
        "\n",
        "* X_array = np.random.rand(10) * np.random.randint(1, 2, size=10)\n",
        "Crea un arreglo X_array de 10 números aleatorios. Cada número se genera multiplicando un valor aleatorio entre 0 y 1 por un número entero aleatorio (1 o 2).\n",
        "\n",
        "* print(\"Ejemplo\", i+1, \":\", X_array)\n",
        "Imprime el índice del ejemplo actual y el arreglo X_array generado.\n",
        "\n",
        "* estado = np.dot(X_array, theta)\n",
        "Calcula el precio de la miel usando la ecuación de la regresión lineal, donde theta es el vector de parámetros del modelo. La función np.dot realiza el producto punto entre X_array y theta.\n",
        "\n",
        "* print('Precio de miel (usando la ecuación de la normal): {:.3f}'.format(estado))\n",
        "Imprime el precio de la miel calculado con formato de 3 decimales."
      ],
      "metadata": {
        "id": "GVg-VP5XbgBQ"
      }
    },
    {
      "cell_type": "code",
      "source": [
        "for i in range(100):\n",
        "    X_array = np.random.rand(10) * np.random.randint(1, 2, size=10)\n",
        "    print(\"Ejemplo\", i+1, \":\", X_array)\n",
        "    estado = np.dot(X_array, theta)\n",
        "    print('Precio de miel (usando la ecuación de la normal): {:.3f}'.format(estado))\n"
      ],
      "metadata": {
        "colab": {
          "base_uri": "https://localhost:8080/"
        },
        "id": "_wBiTRaibMwE",
        "outputId": "e05e0afd-8a7d-4133-a153-080208e61a1f"
      },
      "execution_count": 494,
      "outputs": [
        {
          "output_type": "stream",
          "name": "stdout",
          "text": [
            "Ejemplo 1 : [0.31095994 0.94306604 0.42930954 0.62404257 0.84169611 0.31571825\n",
            " 0.18609202 0.00657022 0.51784707 0.10972416]\n",
            "Precio de miel (usando la ecuación de la normal): 76.870\n",
            "Ejemplo 2 : [0.9449395  0.67853264 0.364979   0.29965329 0.35920297 0.15058808\n",
            " 0.93977676 0.36074304 0.95327604 0.58638458]\n",
            "Precio de miel (usando la ecuación de la normal): 420.185\n",
            "Ejemplo 3 : [0.44023893 0.3230654  0.81413306 0.29086579 0.90638229 0.08598472\n",
            " 0.37020175 0.77407555 0.60649647 0.01946178]\n",
            "Precio de miel (usando la ecuación de la normal): 7.852\n",
            "Ejemplo 4 : [0.64074557 0.45516585 0.39149163 0.30660432 0.52879208 0.14833844\n",
            " 0.32130825 0.35498606 0.81792972 0.45636893]\n",
            "Precio de miel (usando la ecuación de la normal): 327.375\n",
            "Ejemplo 5 : [0.87889163 0.21932323 0.18440384 0.69407242 0.11274957 0.43452056\n",
            " 0.04909227 0.1923993  0.5734083  0.58195251]\n",
            "Precio de miel (usando la ecuación de la normal): 418.176\n",
            "Ejemplo 6 : [0.80219626 0.10372083 0.27324142 0.86966229 0.54201104 0.62649663\n",
            " 0.84615109 0.75417522 0.49591256 0.57242035]\n",
            "Precio de miel (usando la ecuación de la normal): 411.330\n",
            "Ejemplo 7 : [0.96177817 0.46539665 0.67233575 0.99866901 0.89417237 0.61126459\n",
            " 0.66570695 0.20290851 0.06407884 0.67335791]\n",
            "Precio de miel (usando la ecuación de la normal): 482.752\n",
            "Ejemplo 8 : [0.05900986 0.12366164 0.7705848  0.39888663 0.1622558  0.49896352\n",
            " 0.99055042 0.84280253 0.69472083 0.12187363]\n",
            "Precio de miel (usando la ecuación de la normal): 86.002\n",
            "Ejemplo 9 : [0.07795172 0.03253422 0.70670469 0.28352194 0.5120811  0.23888094\n",
            " 0.91853373 0.82387798 0.53141379 0.40490766]\n",
            "Precio de miel (usando la ecuación de la normal): 292.914\n",
            "Ejemplo 10 : [0.43449675 0.60662914 0.30324275 0.72185312 0.39802632 0.75553532\n",
            " 0.86385453 0.43885091 0.81286662 0.98442682]\n",
            "Precio de miel (usando la ecuación de la normal): 715.718\n",
            "Ejemplo 11 : [0.68123384 0.19121701 0.17138867 0.99495741 0.0038659  0.46470101\n",
            " 0.30429201 0.10794767 0.9430499  0.54408047]\n",
            "Precio de miel (usando la ecuación de la normal): 392.372\n",
            "Ejemplo 12 : [0.47966259 0.46114244 0.52401757 0.76252385 0.40776699 0.64442796\n",
            " 0.12646455 0.94997385 0.14329106 0.03992976]\n",
            "Precio de miel (usando la ecuación de la normal): 23.844\n",
            "Ejemplo 13 : [0.26405965 0.63184241 0.76503161 0.43523424 0.01213905 0.59417859\n",
            " 0.12356175 0.3409109  0.19441035 0.3840535 ]\n",
            "Precio de miel (usando la ecuación de la normal): 276.468\n",
            "Ejemplo 14 : [0.81922864 0.64293871 0.49244158 0.35371308 0.63195019 0.64746684\n",
            " 0.57895873 0.09679181 0.73104949 0.53700753]\n",
            "Precio de miel (usando la ecuación de la normal): 384.510\n",
            "Ejemplo 15 : [0.76921533 0.06829944 0.22673733 0.41769992 0.4571517  0.14142703\n",
            " 0.98383557 0.74016077 0.28767862 0.89292809]\n",
            "Precio de miel (usando la ecuación de la normal): 645.959\n",
            "Ejemplo 16 : [0.26886978 0.92160299 0.32061207 0.5875025  0.08647102 0.45671051\n",
            " 0.38827337 0.81163942 0.5850625  0.96978552]\n",
            "Precio de miel (usando la ecuación de la normal): 706.513\n",
            "Ejemplo 17 : [0.49674318 0.77975625 0.43865143 0.59611746 0.76451416 0.94115496\n",
            " 0.43845633 0.93313244 0.9072945  0.20570553]\n",
            "Precio de miel (usando la ecuación de la normal): 145.081\n",
            "Ejemplo 18 : [0.59207651 0.94973103 0.96110051 0.54840934 0.56401537 0.47321118\n",
            " 0.09697078 0.76067332 0.36490385 0.44622441]\n",
            "Precio de miel (usando la ecuación de la normal): 318.677\n",
            "Ejemplo 19 : [0.60078221 0.63615936 0.94770325 0.78212682 0.47019362 0.19995672\n",
            " 0.57455805 0.29222047 0.23334234 0.04220429]\n",
            "Precio de miel (usando la ecuación de la normal): 23.366\n",
            "Ejemplo 20 : [0.35105188 0.39764002 0.13362965 0.22206404 0.2453924  0.45999435\n",
            " 0.3952433  0.96827825 0.85211633 0.64834812]\n",
            "Precio de miel (usando la ecuación de la normal): 470.813\n",
            "Ejemplo 21 : [0.25347005 0.54811823 0.91703595 0.84857965 0.26456639 0.69350979\n",
            " 0.50606508 0.90531291 0.03035765 0.30774028]\n",
            "Precio de miel (usando la ecuación de la normal): 220.308\n",
            "Ejemplo 22 : [0.89418963 0.32597765 0.19000689 0.64056914 0.84796628 0.9515646\n",
            " 0.73154475 0.30407081 0.54349888 0.13611675]\n",
            "Precio de miel (usando la ecuación de la normal): 91.638\n",
            "Ejemplo 23 : [0.02564714 0.42411093 0.98503257 0.70149161 0.19975918 0.48098255\n",
            " 0.5313359  0.95894815 0.61146413 0.77062825]\n",
            "Precio de miel (usando la ecuación de la normal): 560.338\n",
            "Ejemplo 24 : [0.44533973 0.74789021 0.43194387 0.81855896 0.50726566 0.61562792\n",
            " 0.08007949 0.09268652 0.41937468 0.2458659 ]\n",
            "Precio de miel (usando la ecuación de la normal): 175.334\n",
            "Ejemplo 25 : [0.01533677 0.49789064 0.76223717 0.47105986 0.05463162 0.02378929\n",
            " 0.02636549 0.53553988 0.80242339 0.50368769]\n",
            "Precio de miel (usando la ecuación de la normal): 366.107\n",
            "Ejemplo 26 : [0.41598872 0.50986471 0.36678516 0.01949394 0.37979534 0.50693805\n",
            " 0.66154106 0.9092477  0.73667781 0.52705871]\n",
            "Precio de miel (usando la ecuación de la normal): 380.643\n",
            "Ejemplo 27 : [0.32862686 0.65808944 0.18108866 0.99558621 0.23707002 0.96976406\n",
            " 0.13771837 0.4717844  0.36722061 0.78967777]\n",
            "Precio de miel (usando la ecuación de la normal): 574.812\n",
            "Ejemplo 28 : [0.01876274 0.34426306 0.67194778 0.53877658 0.42428487 0.02284264\n",
            " 0.727365   0.31407856 0.99425684 0.14194922]\n",
            "Precio de miel (usando la ecuación de la normal): 101.745\n",
            "Ejemplo 29 : [0.38242948 0.44118536 0.59419202 0.32436068 0.58298768 0.84123672\n",
            " 0.44131672 0.28754367 0.36205877 0.1604165 ]\n",
            "Precio de miel (usando la ecuación de la normal): 112.143\n",
            "Ejemplo 30 : [0.2022205  0.53573279 0.30508189 0.38156386 0.23745691 0.51108143\n",
            " 0.49017765 0.08266175 0.9828457  0.97148352]\n",
            "Precio de miel (usando la ecuación de la normal): 708.035\n",
            "Ejemplo 31 : [0.7777153  0.43562739 0.76921702 0.16000268 0.1196117  0.66168477\n",
            " 0.54095746 0.87104197 0.06455729 0.55814462]\n",
            "Precio de miel (usando la ecuación de la normal): 399.115\n",
            "Ejemplo 32 : [0.83940629 0.63604468 0.16367182 0.82127936 0.51526513 0.6389253\n",
            " 0.04881692 0.79738856 0.0373401  0.99708677]\n",
            "Precio de miel (usando la ecuación de la normal): 722.223\n",
            "Ejemplo 33 : [0.71932257 0.76312246 0.67946236 0.86561808 0.7067493  0.65678983\n",
            " 0.85051985 0.72489883 0.12960315 0.64694779]\n",
            "Precio de miel (usando la ecuación de la normal): 465.412\n",
            "Ejemplo 34 : [0.39789399 0.90947025 0.77096313 0.46499433 0.01778711 0.40837051\n",
            " 0.09011047 0.98034073 0.44602298 0.41525441]\n",
            "Precio de miel (usando la ecuación de la normal): 298.313\n",
            "Ejemplo 35 : [0.1592752  0.7244255  0.38141833 0.55980022 0.83234943 0.96194704\n",
            " 0.74613406 0.15884588 0.36727014 0.78717503]\n",
            "Precio de miel (usando la ecuación de la normal): 573.270\n",
            "Ejemplo 36 : [0.76011661 0.3240548  0.28712855 0.18299743 0.81197854 0.79237545\n",
            " 0.75443856 0.97133509 0.22121536 0.53773724]\n",
            "Precio de miel (usando la ecuación de la normal): 385.725\n",
            "Ejemplo 37 : [0.9520708  0.1694819  0.12293653 0.49726978 0.31424916 0.08611083\n",
            " 0.33487578 0.35255891 0.89855403 0.9110408 ]\n",
            "Precio de miel (usando la ecuación de la normal): 658.304\n",
            "Ejemplo 38 : [0.3259889  0.68701278 0.4662791  0.14808779 0.45111993 0.66105738\n",
            " 0.40489727 0.26088111 0.86666263 0.91696936]\n",
            "Precio de miel (usando la ecuación de la normal): 666.388\n",
            "Ejemplo 39 : [0.80798607 0.54374798 0.37315132 0.16657332 0.56901139 0.96505425\n",
            " 0.54476682 0.36813189 0.70586428 0.32640149]\n",
            "Precio de miel (usando la ecuación de la normal): 230.686\n",
            "Ejemplo 40 : [0.41451557 0.97026435 0.07567069 0.66087483 0.24050856 0.29974115\n",
            " 0.01899613 0.45100141 0.79623244 0.33819058]\n",
            "Precio de miel (usando la ecuación de la normal): 244.449\n",
            "Ejemplo 41 : [0.30165194 0.94531935 0.09329956 0.56322301 0.99400421 0.11963768\n",
            " 0.20481391 0.73344348 0.16945922 0.91975158]\n",
            "Precio de miel (usando la ecuación de la normal): 670.344\n",
            "Ejemplo 42 : [0.33952654 0.49264575 0.81872491 0.46255113 0.27321705 0.15419262\n",
            " 0.01979807 0.22254138 0.97394375 0.631498  ]\n",
            "Precio de miel (usando la ecuación de la normal): 456.661\n",
            "Ejemplo 43 : [0.2070186  0.80377255 0.64085687 0.09744079 0.00396663 0.60117992\n",
            " 0.4564515  0.72644838 0.78181744 0.34366788]\n",
            "Precio de miel (usando la ecuación de la normal): 247.605\n",
            "Ejemplo 44 : [0.23795553 0.50650462 0.59858908 0.40088263 0.40293893 0.71757244\n",
            " 0.37177416 0.36075628 0.06408838 0.481106  ]\n",
            "Precio de miel (usando la ecuación de la normal): 347.990\n",
            "Ejemplo 45 : [0.06865239 0.50372329 0.43919663 0.00310593 0.01783678 0.29676582\n",
            " 0.85673191 0.8088691  0.02472917 0.55977828]\n",
            "Precio de miel (usando la ecuación de la normal): 407.310\n",
            "Ejemplo 46 : [0.35268253 0.92271808 0.51265591 0.00820177 0.75713526 0.06760702\n",
            " 0.30203242 0.97880707 0.22220009 0.7639607 ]\n",
            "Precio de miel (usando la ecuación de la normal): 554.167\n",
            "Ejemplo 47 : [0.82828217 0.00440147 0.58871754 0.43801099 0.51409973 0.2543448\n",
            " 0.94636124 0.68883764 0.76403579 0.05192353]\n",
            "Precio de miel (usando la ecuación de la normal): 29.161\n",
            "Ejemplo 48 : [0.21640635 0.08213391 0.07792596 0.73205812 0.15314554 0.00663519\n",
            " 0.5269708  0.27610565 0.45948055 0.17885961]\n",
            "Precio de miel (usando la ecuación de la normal): 129.251\n",
            "Ejemplo 49 : [0.1146315  0.71809707 0.6957997  0.59523939 0.88067423 0.87658002\n",
            " 0.30149243 0.31143741 0.55713029 0.93154744]\n",
            "Precio de miel (usando la ecuación de la normal): 678.163\n",
            "Ejemplo 50 : [0.1354075  0.62589566 0.57820074 0.76085993 0.20297714 0.08639986\n",
            " 0.83745505 0.40505771 0.76168325 0.73086883]\n",
            "Precio de miel (usando la ecuación de la normal): 532.107\n",
            "Ejemplo 51 : [0.47280099 0.39685853 0.63238526 0.83913305 0.46967731 0.75420035\n",
            " 0.75813488 0.17444551 0.02880486 0.48623891]\n",
            "Precio de miel (usando la ecuación de la normal): 349.957\n",
            "Ejemplo 52 : [0.6161643  0.70296424 0.85608327 0.39767868 0.9489957  0.62568581\n",
            " 0.72898388 0.43679637 0.13185548 0.15285207]\n",
            "Precio de miel (usando la ecuación de la normal): 103.942\n",
            "Ejemplo 53 : [0.76983904 0.78725142 0.12171102 0.09750236 0.55983763 0.38846436\n",
            " 0.4106801  0.2326744  0.43771198 0.41782539]\n",
            "Precio de miel (usando la ecuación de la normal): 299.011\n",
            "Ejemplo 54 : [0.77979457 0.84950843 0.65843833 0.38971757 0.32777766 0.55973214\n",
            " 0.93738809 0.68444252 0.84135658 0.27917018]\n",
            "Precio de miel (usando la ecuación de la normal): 195.857\n",
            "Ejemplo 55 : [0.63328816 0.58676709 0.34953669 0.71532876 0.07709982 0.24378078\n",
            " 0.38301352 0.41920609 0.38115861 0.29070763]\n",
            "Precio de miel (usando la ecuación de la normal): 206.878\n",
            "Ejemplo 56 : [0.26253054 0.86991356 0.03929814 0.55854361 0.70402844 0.56063026\n",
            " 0.84510604 0.43012617 0.35708667 0.5779433 ]\n",
            "Precio de miel (usando la ecuación de la normal): 420.794\n",
            "Ejemplo 57 : [0.62742694 0.61228679 0.87089526 0.62904591 0.94060421 0.57636019\n",
            " 0.64041168 0.13773636 0.13069311 0.06911782]\n",
            "Precio de miel (usando la ecuación de la normal): 42.751\n",
            "Ejemplo 58 : [0.43937564 0.82424166 0.90885524 0.67926028 0.37191453 0.19593515\n",
            " 0.31338922 0.99620762 0.45455212 0.63501735]\n",
            "Precio de miel (usando la ecuación de la normal): 458.295\n",
            "Ejemplo 59 : [0.22253565 0.43757097 0.53302106 0.80798206 0.64311307 0.41774315\n",
            " 0.05867466 0.64725604 0.11798267 0.15266724]\n",
            "Precio de miel (usando la ecuación de la normal): 108.442\n",
            "Ejemplo 60 : [0.94990396 0.53972489 0.50899171 0.33663248 0.48868356 0.54181332\n",
            " 0.07371986 0.9441704  0.87053169 0.23937962]\n",
            "Precio de miel (usando la ecuación de la normal): 165.640\n",
            "Ejemplo 61 : [0.73496302 0.93645428 0.04377516 0.96814338 0.95434675 0.27090569\n",
            " 0.24403751 0.94278599 0.93556687 0.02465913]\n",
            "Precio de miel (usando la ecuación de la normal): 12.634\n",
            "Ejemplo 62 : [0.74336143 0.02985442 0.28625411 0.27622145 0.96400416 0.21704728\n",
            " 0.36887793 0.17144082 0.075759   0.09146712]\n",
            "Precio de miel (usando la ecuación de la normal): 59.702\n",
            "Ejemplo 63 : [0.28470454 0.69541788 0.96474239 0.9692814  0.87286768 0.06529028\n",
            " 0.98537832 0.96303875 0.27492411 0.23978989]\n",
            "Precio de miel (usando la ecuación de la normal): 170.400\n",
            "Ejemplo 64 : [0.65995839 0.91306985 0.49565754 0.02179844 0.6300314  0.58240636\n",
            " 0.10252638 0.50248319 0.63418211 0.39030995]\n",
            "Precio de miel (usando la ecuación de la normal): 278.407\n",
            "Ejemplo 65 : [0.53709592 0.14995517 0.54164598 0.55154151 0.91107732 0.50459206\n",
            " 0.79132086 0.31751644 0.06283532 0.1703672 ]\n",
            "Precio de miel (usando la ecuación de la normal): 118.363\n",
            "Ejemplo 66 : [0.29774942 0.11013758 0.59121234 0.16992056 0.03829731 0.7914142\n",
            " 0.83192495 0.58828331 0.91080088 0.83123776]\n",
            "Precio de miel (usando la ecuación de la normal): 603.203\n",
            "Ejemplo 67 : [0.34610343 0.07524475 0.68688554 0.31186792 0.32597315 0.19764477\n",
            " 0.48286674 0.64792747 0.10541309 0.5356257 ]\n",
            "Precio de miel (usando la ecuación de la normal): 386.519\n",
            "Ejemplo 68 : [0.79851108 0.32412356 0.39904755 0.47887821 0.98668434 0.39001076\n",
            " 0.95447917 0.92195964 0.76448885 0.75563697]\n",
            "Precio de miel (usando la ecuación de la normal): 544.679\n",
            "Ejemplo 69 : [0.96278474 0.02655355 0.30895534 0.91856797 0.37678344 0.50738782\n",
            " 0.9904789  0.33231198 0.65717139 0.72555937]\n",
            "Precio de miel (usando la ecuación de la normal): 522.004\n",
            "Ejemplo 70 : [0.38703226 0.66417346 0.13382707 0.76662686 0.50576748 0.78771614\n",
            " 0.99350963 0.45878006 0.44561325 0.74839247]\n",
            "Precio de miel (usando la ecuación de la normal): 544.105\n",
            "Ejemplo 71 : [0.9805649  0.65754599 0.02661302 0.42567471 0.78154565 0.31816833\n",
            " 0.45630731 0.90858374 0.03098103 0.94878237]\n",
            "Precio de miel (usando la ecuación de la normal): 685.944\n",
            "Ejemplo 72 : [0.52341802 0.7920486  0.35551742 0.30944205 0.78744027 0.32171238\n",
            " 0.74857917 0.16750085 0.72278274 0.12954558]\n",
            "Precio de miel (usando la ecuación de la normal): 89.535\n",
            "Ejemplo 73 : [0.11987167 0.58629442 0.65669918 0.72285376 0.32916583 0.66683104\n",
            " 0.08385009 0.70739065 0.38244613 0.33642943]\n",
            "Precio de miel (usando la ecuación de la normal): 243.238\n",
            "Ejemplo 74 : [0.89053651 0.75625728 0.64880344 0.62656675 0.05116626 0.72620259\n",
            " 0.02952999 0.51441502 0.24304607 0.6171404 ]\n",
            "Precio de miel (usando la ecuación de la normal): 442.327\n",
            "Ejemplo 75 : [0.54737813 0.50115622 0.24016019 0.79968531 0.44672289 0.80840574\n",
            " 0.18662999 0.05479007 0.62133049 0.00625419]\n",
            "Precio de miel (usando la ecuación de la normal): -0.255\n",
            "Ejemplo 76 : [0.80553332 0.86059408 0.09409957 0.26206537 0.15608061 0.20295419\n",
            " 0.47590476 0.97865465 0.71131894 0.07174147]\n",
            "Precio de miel (usando la ecuación de la normal): 45.946\n",
            "Ejemplo 77 : [0.20079143 0.77294256 0.17928521 0.71001321 0.46649504 0.62639218\n",
            " 0.93206461 0.78203244 0.2449762  0.02662672]\n",
            "Precio de miel (usando la ecuación de la normal): 17.699\n",
            "Ejemplo 78 : [0.08850676 0.19516849 0.76577209 0.96340816 0.00576455 0.40642388\n",
            " 0.79400042 0.65071429 0.67678537 0.86171292]\n",
            "Precio de miel (usando la ecuación de la normal): 627.362\n",
            "Ejemplo 79 : [0.18818581 0.66562828 0.52947762 0.84011414 0.76083803 0.69604363\n",
            " 0.19622263 0.51783803 0.46619478 0.24086637]\n",
            "Precio de miel (usando la ecuación de la normal): 173.273\n",
            "Ejemplo 80 : [0.29365738 0.39695791 0.87064367 0.97028492 0.31773061 0.01172075\n",
            " 0.11386177 0.23071173 0.46858536 0.29705154]\n",
            "Precio de miel (usando la ecuación de la normal): 212.644\n",
            "Ejemplo 81 : [0.43623178 0.09655876 0.22955264 0.19623907 0.20572051 0.77933244\n",
            " 0.49853679 0.10220705 0.9748363  0.43484427]\n",
            "Precio de miel (usando la ecuación de la normal): 313.494\n",
            "Ejemplo 82 : [0.02318909 0.02578951 0.0364998  0.23442745 0.78160675 0.50970934\n",
            " 0.69896716 0.44090002 0.57144919 0.64500328]\n",
            "Precio de miel (usando la ecuación de la normal): 471.113\n",
            "Ejemplo 83 : [0.85570493 0.85535676 0.32695236 0.59819638 0.7079389  0.24573887\n",
            " 0.64056373 0.32405955 0.87537186 0.19106006]\n",
            "Precio de miel (usando la ecuación de la normal): 132.173\n",
            "Ejemplo 84 : [0.13242236 0.16227903 0.5953933  0.03873957 0.78815282 0.60738771\n",
            " 0.54333483 0.38125703 0.74086032 0.71746445]\n",
            "Precio de miel (usando la ecuación de la normal): 521.191\n",
            "Ejemplo 85 : [0.28179969 0.78894113 0.51131357 0.61540672 0.68054672 0.8444258\n",
            " 0.55586842 0.61959629 0.8187909  0.80572468]\n",
            "Precio de miel (usando la ecuación de la normal): 585.479\n",
            "Ejemplo 86 : [0.06609114 0.94295325 0.75660874 0.54144131 0.84685261 0.87016498\n",
            " 0.65131232 0.68106957 0.03934699 0.82550614]\n",
            "Precio de miel (usando la ecuación de la normal): 600.834\n",
            "Ejemplo 87 : [0.66115402 0.87211427 0.46348808 0.4565985  0.79261873 0.17881045\n",
            " 0.48209162 0.55019492 0.63333151 0.78141   ]\n",
            "Precio de miel (usando la ecuación de la normal): 564.885\n",
            "Ejemplo 88 : [0.07621584 0.71684234 0.25361536 0.10213311 0.46502038 0.75824181\n",
            " 0.04531163 0.30437936 0.14600481 0.15901872]\n",
            "Precio de miel (usando la ecuación de la normal): 114.848\n",
            "Ejemplo 89 : [0.2349776  0.362185   0.55465886 0.88942603 0.41728465 0.59519698\n",
            " 0.55830809 0.58785072 0.80729769 0.87065547]\n",
            "Precio de miel (usando la ecuación de la normal): 633.321\n",
            "Ejemplo 90 : [0.31579589 0.69814461 0.89237097 0.43207288 0.77133786 0.77566532\n",
            " 0.01194997 0.79712723 0.25677148 0.30872904]\n",
            "Precio de miel (usando la ecuación de la normal): 220.259\n",
            "Ejemplo 91 : [0.98089181 0.38662038 0.16290464 0.346007   0.10536289 0.80480567\n",
            " 0.82546155 0.45449542 0.48338285 0.69027095]\n",
            "Precio de miel (usando la ecuación de la normal): 496.276\n",
            "Ejemplo 92 : [0.8101204  0.49036875 0.03320755 0.11732516 0.56720699 0.97019757\n",
            " 0.39146012 0.54780319 0.49816325 0.71992883]\n",
            "Precio de miel (usando la ecuación de la normal): 519.532\n",
            "Ejemplo 93 : [0.79526395 0.38584441 0.32589284 0.44992163 0.80941386 0.81471287\n",
            " 0.35956437 0.82223418 0.33290281 0.11043608]\n",
            "Precio de miel (usando la ecuación de la normal): 73.088\n",
            "Ejemplo 94 : [0.10974035 0.0393172  0.41465148 0.20311467 0.70679978 0.24714697\n",
            " 0.47020005 0.54058312 0.55802696 0.85374981]\n",
            "Precio de miel (usando la ecuación de la normal): 621.836\n",
            "Ejemplo 95 : [0.98478387 0.79668669 0.27699271 0.61802759 0.20159861 0.95431936\n",
            " 0.78889248 0.05123965 0.58464368 0.15865996]\n",
            "Precio de miel (usando la ecuación de la normal): 107.501\n",
            "Ejemplo 96 : [0.81745195 0.19704168 0.9074273  0.32570882 0.3859045  0.2177779\n",
            " 0.65373858 0.59218983 0.14410426 0.43186575]\n",
            "Precio de miel (usando la ecuación de la normal): 306.079\n",
            "Ejemplo 97 : [0.15321279 0.93029691 0.0589273  0.16574151 0.34758592 0.97857308\n",
            " 0.52262427 0.97776207 0.26309815 0.50614886]\n",
            "Precio de miel (usando la ecuación de la normal): 368.747\n",
            "Ejemplo 98 : [0.6647864  0.58185312 0.02353361 0.30000189 0.27387162 0.48216977\n",
            " 0.21544242 0.12297272 0.97571783 0.05906389]\n",
            "Precio de miel (usando la ecuación de la normal): 37.955\n",
            "Ejemplo 99 : [0.01721813 0.17168137 0.47183414 0.74583785 0.68201147 0.24823309\n",
            " 0.56080761 0.64857997 0.25952401 0.68183314]\n",
            "Precio de miel (usando la ecuación de la normal): 497.141\n",
            "Ejemplo 100 : [0.04618912 0.66505727 0.17521236 0.63497225 0.51979158 0.52189968\n",
            " 0.43699306 0.09674231 0.36661327 0.48983174]\n",
            "Precio de miel (usando la ecuación de la normal): 357.726\n"
          ]
        }
      ]
    },
    {
      "cell_type": "markdown",
      "source": [
        "# **REGRESION POLINOMICA**"
      ],
      "metadata": {
        "id": "RJMjy3yN6RYz"
      }
    },
    {
      "cell_type": "markdown",
      "source": [
        "### **Importar carpetas de drive**"
      ],
      "metadata": {
        "id": "mBOndofnP3W6"
      }
    },
    {
      "cell_type": "code",
      "source": [
        "from google.colab import drive\n",
        "drive.mount(\"/content/gdrive\")"
      ],
      "metadata": {
        "colab": {
          "base_uri": "https://localhost:8080/"
        },
        "id": "0DQTsLSl6XQ7",
        "outputId": "db9b501b-7845-4354-f8a9-5de8e8680872"
      },
      "execution_count": 495,
      "outputs": [
        {
          "output_type": "stream",
          "name": "stdout",
          "text": [
            "Drive already mounted at /content/gdrive; to attempt to forcibly remount, call drive.mount(\"/content/gdrive\", force_remount=True).\n"
          ]
        }
      ]
    },
    {
      "cell_type": "markdown",
      "source": [
        "### **Importar Librerias**"
      ],
      "metadata": {
        "id": "V7Ykyk24P0gN"
      }
    },
    {
      "cell_type": "code",
      "source": [
        "# utilizado para manejos de directorios y rutas\n",
        "import os\n",
        "\n",
        "# Computacion vectorial y cientifica para python\n",
        "import numpy as np\n",
        "\n",
        "import pandas as pd\n",
        "\n",
        "# Librerias para graficación (trazado de gráficos)\n",
        "from matplotlib import pyplot\n",
        "from mpl_toolkits.mplot3d import Axes3D  # Necesario para graficar superficies 3D\n",
        "\n",
        "# llama a matplotlib a embeber graficas dentro de los cuadernillos\n",
        "%matplotlib inline"
      ],
      "metadata": {
        "id": "QEZ90M5H6yQY"
      },
      "execution_count": 496,
      "outputs": []
    },
    {
      "cell_type": "markdown",
      "source": [
        "### Cargar Datos:"
      ],
      "metadata": {
        "id": "52cTbNC4QDTm"
      }
    },
    {
      "cell_type": "code",
      "source": [
        "# Cargamos el dataset\n",
        "data = pd.read_csv('/content/gdrive/MyDrive/IA/LaboratoriosOficiales/Lab2-PatziColodroSarahValentina/honey_purity_dataset.csv', delimiter=',')\n",
        "\n",
        "\n",
        "# Eliminamos la columna 'Pollen_analysis' para que no interfiera en el análisis de regresión al ser texto y no numeros\n",
        "data = data.drop('Pollen_analysis', axis=1)\n",
        "\n",
        "#FORMA B: Seleccionamos las primeras 17,000 filas en orden, para poder visualizar de mejor manera las graficas ya que el dataset original cuenta con 247903 datos\n",
        "#data = data.iloc[:17000]\n",
        "\n",
        "print(data.shape)"
      ],
      "metadata": {
        "colab": {
          "base_uri": "https://localhost:8080/"
        },
        "id": "rVi5DiZJ61cc",
        "outputId": "c9dbdf35-503d-431d-b44f-982c21d51670"
      },
      "execution_count": 497,
      "outputs": [
        {
          "output_type": "stream",
          "name": "stdout",
          "text": [
            "(247903, 10)\n"
          ]
        }
      ]
    },
    {
      "cell_type": "markdown",
      "source": [
        "### Ajustamos el tamaño de las filas y definimos columnas:"
      ],
      "metadata": {
        "id": "t5E28G8jQGCq"
      }
    },
    {
      "cell_type": "code",
      "source": [
        "\n",
        "# Seleccionamos las primeras 17,000 filas en orden, para poder visualizar de mejor manera las graficas ya que el dataset original cuenta con 247903 datos\n",
        "# tambien especificamos que para x queremos todas las columnas menos la ultima y para \"Y\" queremos la ultima\n",
        "X = data.iloc[:17000, :-1]  #[FILAS, COLUMNAS]\n",
        "y = data.iloc[:17000, -1]\n",
        "m = y.size\n",
        "\n",
        "# Verifica el contenido del array 'data'\n",
        "print(data.head(10))  # Imprime las primeras 10 filas para asegurarte de que está correcto\n",
        "\n",
        "print('Número de ejemplos (filas): ', m)\n",
        "\n",
        "#se utiliza para mostrar un DataFrame de pandas de manera más visual y formateada\n",
        "display(data)"
      ],
      "metadata": {
        "colab": {
          "base_uri": "https://localhost:8080/",
          "height": 641
        },
        "id": "IisH-QOD661T",
        "outputId": "d13380ce-5f69-404f-8722-c4e9f2239fcd"
      },
      "execution_count": 498,
      "outputs": [
        {
          "output_type": "stream",
          "name": "stdout",
          "text": [
            "     CS  Density     WC    pH    EC      F      G  Viscosity  Purity   Price\n",
            "0  2.81     1.75  23.04  6.29  0.76  39.02  33.63    4844.50    0.68  645.24\n",
            "1  9.47     1.82  17.50  7.20  0.71  38.15  34.41    6689.02    0.89  385.85\n",
            "2  4.61     1.84  23.72  7.31  0.80  27.47  34.36    6883.60    0.66  639.64\n",
            "3  1.77     1.40  16.61  4.01  0.78  31.52  28.15    7167.56    1.00  946.46\n",
            "4  6.11     1.25  19.63  4.82  0.90  29.65  42.52    5125.44    1.00  432.62\n",
            "5  2.17     1.35  20.67  4.11  0.75  27.19  43.54    3967.30    0.80  593.55\n",
            "6  7.15     1.57  13.37  5.79  0.89  43.38  44.94    7384.93    0.95  838.98\n",
            "7  3.17     1.23  23.35  6.64  0.85  43.50  36.33    5598.87    0.66  639.64\n",
            "8  4.98     1.73  16.60  6.61  0.74  22.49  44.74    8800.10    0.95  238.05\n",
            "9  8.49     1.50  15.75  4.50  0.86  49.59  38.13    2675.60    0.82  777.84\n",
            "Número de ejemplos (filas):  17000\n"
          ]
        },
        {
          "output_type": "display_data",
          "data": {
            "text/plain": [
              "          CS  Density     WC    pH    EC      F      G  Viscosity  Purity  \\\n",
              "0       2.81     1.75  23.04  6.29  0.76  39.02  33.63    4844.50    0.68   \n",
              "1       9.47     1.82  17.50  7.20  0.71  38.15  34.41    6689.02    0.89   \n",
              "2       4.61     1.84  23.72  7.31  0.80  27.47  34.36    6883.60    0.66   \n",
              "3       1.77     1.40  16.61  4.01  0.78  31.52  28.15    7167.56    1.00   \n",
              "4       6.11     1.25  19.63  4.82  0.90  29.65  42.52    5125.44    1.00   \n",
              "...      ...      ...    ...   ...   ...    ...    ...        ...     ...   \n",
              "247898  1.98     1.29  17.90  4.82  0.89  36.10  34.69    8261.63    1.00   \n",
              "247899  6.18     1.67  19.54  4.91  0.85  31.15  20.82    6939.39    1.00   \n",
              "247900  7.78     1.49  15.78  5.69  0.73  44.60  44.07    4139.79    0.64   \n",
              "247901  5.78     1.74  14.96  6.81  0.83  47.19  37.79    4417.74    0.97   \n",
              "247902  8.96     1.86  18.62  6.89  0.86  25.94  42.88    8119.62    0.64   \n",
              "\n",
              "         Price  \n",
              "0       645.24  \n",
              "1       385.85  \n",
              "2       639.64  \n",
              "3       946.46  \n",
              "4       432.62  \n",
              "...        ...  \n",
              "247898  754.98  \n",
              "247899  543.41  \n",
              "247900  615.46  \n",
              "247901  949.32  \n",
              "247902  384.48  \n",
              "\n",
              "[247903 rows x 10 columns]"
            ],
            "text/html": [
              "\n",
              "  <div id=\"df-ce8c0ed1-3932-4d34-a643-a9a02b283577\" class=\"colab-df-container\">\n",
              "    <div>\n",
              "<style scoped>\n",
              "    .dataframe tbody tr th:only-of-type {\n",
              "        vertical-align: middle;\n",
              "    }\n",
              "\n",
              "    .dataframe tbody tr th {\n",
              "        vertical-align: top;\n",
              "    }\n",
              "\n",
              "    .dataframe thead th {\n",
              "        text-align: right;\n",
              "    }\n",
              "</style>\n",
              "<table border=\"1\" class=\"dataframe\">\n",
              "  <thead>\n",
              "    <tr style=\"text-align: right;\">\n",
              "      <th></th>\n",
              "      <th>CS</th>\n",
              "      <th>Density</th>\n",
              "      <th>WC</th>\n",
              "      <th>pH</th>\n",
              "      <th>EC</th>\n",
              "      <th>F</th>\n",
              "      <th>G</th>\n",
              "      <th>Viscosity</th>\n",
              "      <th>Purity</th>\n",
              "      <th>Price</th>\n",
              "    </tr>\n",
              "  </thead>\n",
              "  <tbody>\n",
              "    <tr>\n",
              "      <th>0</th>\n",
              "      <td>2.81</td>\n",
              "      <td>1.75</td>\n",
              "      <td>23.04</td>\n",
              "      <td>6.29</td>\n",
              "      <td>0.76</td>\n",
              "      <td>39.02</td>\n",
              "      <td>33.63</td>\n",
              "      <td>4844.50</td>\n",
              "      <td>0.68</td>\n",
              "      <td>645.24</td>\n",
              "    </tr>\n",
              "    <tr>\n",
              "      <th>1</th>\n",
              "      <td>9.47</td>\n",
              "      <td>1.82</td>\n",
              "      <td>17.50</td>\n",
              "      <td>7.20</td>\n",
              "      <td>0.71</td>\n",
              "      <td>38.15</td>\n",
              "      <td>34.41</td>\n",
              "      <td>6689.02</td>\n",
              "      <td>0.89</td>\n",
              "      <td>385.85</td>\n",
              "    </tr>\n",
              "    <tr>\n",
              "      <th>2</th>\n",
              "      <td>4.61</td>\n",
              "      <td>1.84</td>\n",
              "      <td>23.72</td>\n",
              "      <td>7.31</td>\n",
              "      <td>0.80</td>\n",
              "      <td>27.47</td>\n",
              "      <td>34.36</td>\n",
              "      <td>6883.60</td>\n",
              "      <td>0.66</td>\n",
              "      <td>639.64</td>\n",
              "    </tr>\n",
              "    <tr>\n",
              "      <th>3</th>\n",
              "      <td>1.77</td>\n",
              "      <td>1.40</td>\n",
              "      <td>16.61</td>\n",
              "      <td>4.01</td>\n",
              "      <td>0.78</td>\n",
              "      <td>31.52</td>\n",
              "      <td>28.15</td>\n",
              "      <td>7167.56</td>\n",
              "      <td>1.00</td>\n",
              "      <td>946.46</td>\n",
              "    </tr>\n",
              "    <tr>\n",
              "      <th>4</th>\n",
              "      <td>6.11</td>\n",
              "      <td>1.25</td>\n",
              "      <td>19.63</td>\n",
              "      <td>4.82</td>\n",
              "      <td>0.90</td>\n",
              "      <td>29.65</td>\n",
              "      <td>42.52</td>\n",
              "      <td>5125.44</td>\n",
              "      <td>1.00</td>\n",
              "      <td>432.62</td>\n",
              "    </tr>\n",
              "    <tr>\n",
              "      <th>...</th>\n",
              "      <td>...</td>\n",
              "      <td>...</td>\n",
              "      <td>...</td>\n",
              "      <td>...</td>\n",
              "      <td>...</td>\n",
              "      <td>...</td>\n",
              "      <td>...</td>\n",
              "      <td>...</td>\n",
              "      <td>...</td>\n",
              "      <td>...</td>\n",
              "    </tr>\n",
              "    <tr>\n",
              "      <th>247898</th>\n",
              "      <td>1.98</td>\n",
              "      <td>1.29</td>\n",
              "      <td>17.90</td>\n",
              "      <td>4.82</td>\n",
              "      <td>0.89</td>\n",
              "      <td>36.10</td>\n",
              "      <td>34.69</td>\n",
              "      <td>8261.63</td>\n",
              "      <td>1.00</td>\n",
              "      <td>754.98</td>\n",
              "    </tr>\n",
              "    <tr>\n",
              "      <th>247899</th>\n",
              "      <td>6.18</td>\n",
              "      <td>1.67</td>\n",
              "      <td>19.54</td>\n",
              "      <td>4.91</td>\n",
              "      <td>0.85</td>\n",
              "      <td>31.15</td>\n",
              "      <td>20.82</td>\n",
              "      <td>6939.39</td>\n",
              "      <td>1.00</td>\n",
              "      <td>543.41</td>\n",
              "    </tr>\n",
              "    <tr>\n",
              "      <th>247900</th>\n",
              "      <td>7.78</td>\n",
              "      <td>1.49</td>\n",
              "      <td>15.78</td>\n",
              "      <td>5.69</td>\n",
              "      <td>0.73</td>\n",
              "      <td>44.60</td>\n",
              "      <td>44.07</td>\n",
              "      <td>4139.79</td>\n",
              "      <td>0.64</td>\n",
              "      <td>615.46</td>\n",
              "    </tr>\n",
              "    <tr>\n",
              "      <th>247901</th>\n",
              "      <td>5.78</td>\n",
              "      <td>1.74</td>\n",
              "      <td>14.96</td>\n",
              "      <td>6.81</td>\n",
              "      <td>0.83</td>\n",
              "      <td>47.19</td>\n",
              "      <td>37.79</td>\n",
              "      <td>4417.74</td>\n",
              "      <td>0.97</td>\n",
              "      <td>949.32</td>\n",
              "    </tr>\n",
              "    <tr>\n",
              "      <th>247902</th>\n",
              "      <td>8.96</td>\n",
              "      <td>1.86</td>\n",
              "      <td>18.62</td>\n",
              "      <td>6.89</td>\n",
              "      <td>0.86</td>\n",
              "      <td>25.94</td>\n",
              "      <td>42.88</td>\n",
              "      <td>8119.62</td>\n",
              "      <td>0.64</td>\n",
              "      <td>384.48</td>\n",
              "    </tr>\n",
              "  </tbody>\n",
              "</table>\n",
              "<p>247903 rows × 10 columns</p>\n",
              "</div>\n",
              "    <div class=\"colab-df-buttons\">\n",
              "\n",
              "  <div class=\"colab-df-container\">\n",
              "    <button class=\"colab-df-convert\" onclick=\"convertToInteractive('df-ce8c0ed1-3932-4d34-a643-a9a02b283577')\"\n",
              "            title=\"Convert this dataframe to an interactive table.\"\n",
              "            style=\"display:none;\">\n",
              "\n",
              "  <svg xmlns=\"http://www.w3.org/2000/svg\" height=\"24px\" viewBox=\"0 -960 960 960\">\n",
              "    <path d=\"M120-120v-720h720v720H120Zm60-500h600v-160H180v160Zm220 220h160v-160H400v160Zm0 220h160v-160H400v160ZM180-400h160v-160H180v160Zm440 0h160v-160H620v160ZM180-180h160v-160H180v160Zm440 0h160v-160H620v160Z\"/>\n",
              "  </svg>\n",
              "    </button>\n",
              "\n",
              "  <style>\n",
              "    .colab-df-container {\n",
              "      display:flex;\n",
              "      gap: 12px;\n",
              "    }\n",
              "\n",
              "    .colab-df-convert {\n",
              "      background-color: #E8F0FE;\n",
              "      border: none;\n",
              "      border-radius: 50%;\n",
              "      cursor: pointer;\n",
              "      display: none;\n",
              "      fill: #1967D2;\n",
              "      height: 32px;\n",
              "      padding: 0 0 0 0;\n",
              "      width: 32px;\n",
              "    }\n",
              "\n",
              "    .colab-df-convert:hover {\n",
              "      background-color: #E2EBFA;\n",
              "      box-shadow: 0px 1px 2px rgba(60, 64, 67, 0.3), 0px 1px 3px 1px rgba(60, 64, 67, 0.15);\n",
              "      fill: #174EA6;\n",
              "    }\n",
              "\n",
              "    .colab-df-buttons div {\n",
              "      margin-bottom: 4px;\n",
              "    }\n",
              "\n",
              "    [theme=dark] .colab-df-convert {\n",
              "      background-color: #3B4455;\n",
              "      fill: #D2E3FC;\n",
              "    }\n",
              "\n",
              "    [theme=dark] .colab-df-convert:hover {\n",
              "      background-color: #434B5C;\n",
              "      box-shadow: 0px 1px 3px 1px rgba(0, 0, 0, 0.15);\n",
              "      filter: drop-shadow(0px 1px 2px rgba(0, 0, 0, 0.3));\n",
              "      fill: #FFFFFF;\n",
              "    }\n",
              "  </style>\n",
              "\n",
              "    <script>\n",
              "      const buttonEl =\n",
              "        document.querySelector('#df-ce8c0ed1-3932-4d34-a643-a9a02b283577 button.colab-df-convert');\n",
              "      buttonEl.style.display =\n",
              "        google.colab.kernel.accessAllowed ? 'block' : 'none';\n",
              "\n",
              "      async function convertToInteractive(key) {\n",
              "        const element = document.querySelector('#df-ce8c0ed1-3932-4d34-a643-a9a02b283577');\n",
              "        const dataTable =\n",
              "          await google.colab.kernel.invokeFunction('convertToInteractive',\n",
              "                                                    [key], {});\n",
              "        if (!dataTable) return;\n",
              "\n",
              "        const docLinkHtml = 'Like what you see? Visit the ' +\n",
              "          '<a target=\"_blank\" href=https://colab.research.google.com/notebooks/data_table.ipynb>data table notebook</a>'\n",
              "          + ' to learn more about interactive tables.';\n",
              "        element.innerHTML = '';\n",
              "        dataTable['output_type'] = 'display_data';\n",
              "        await google.colab.output.renderOutput(dataTable, element);\n",
              "        const docLink = document.createElement('div');\n",
              "        docLink.innerHTML = docLinkHtml;\n",
              "        element.appendChild(docLink);\n",
              "      }\n",
              "    </script>\n",
              "  </div>\n",
              "\n",
              "\n",
              "<div id=\"df-73938c61-fc7d-4aea-8ac7-780abde17ead\">\n",
              "  <button class=\"colab-df-quickchart\" onclick=\"quickchart('df-73938c61-fc7d-4aea-8ac7-780abde17ead')\"\n",
              "            title=\"Suggest charts\"\n",
              "            style=\"display:none;\">\n",
              "\n",
              "<svg xmlns=\"http://www.w3.org/2000/svg\" height=\"24px\"viewBox=\"0 0 24 24\"\n",
              "     width=\"24px\">\n",
              "    <g>\n",
              "        <path d=\"M19 3H5c-1.1 0-2 .9-2 2v14c0 1.1.9 2 2 2h14c1.1 0 2-.9 2-2V5c0-1.1-.9-2-2-2zM9 17H7v-7h2v7zm4 0h-2V7h2v10zm4 0h-2v-4h2v4z\"/>\n",
              "    </g>\n",
              "</svg>\n",
              "  </button>\n",
              "\n",
              "<style>\n",
              "  .colab-df-quickchart {\n",
              "      --bg-color: #E8F0FE;\n",
              "      --fill-color: #1967D2;\n",
              "      --hover-bg-color: #E2EBFA;\n",
              "      --hover-fill-color: #174EA6;\n",
              "      --disabled-fill-color: #AAA;\n",
              "      --disabled-bg-color: #DDD;\n",
              "  }\n",
              "\n",
              "  [theme=dark] .colab-df-quickchart {\n",
              "      --bg-color: #3B4455;\n",
              "      --fill-color: #D2E3FC;\n",
              "      --hover-bg-color: #434B5C;\n",
              "      --hover-fill-color: #FFFFFF;\n",
              "      --disabled-bg-color: #3B4455;\n",
              "      --disabled-fill-color: #666;\n",
              "  }\n",
              "\n",
              "  .colab-df-quickchart {\n",
              "    background-color: var(--bg-color);\n",
              "    border: none;\n",
              "    border-radius: 50%;\n",
              "    cursor: pointer;\n",
              "    display: none;\n",
              "    fill: var(--fill-color);\n",
              "    height: 32px;\n",
              "    padding: 0;\n",
              "    width: 32px;\n",
              "  }\n",
              "\n",
              "  .colab-df-quickchart:hover {\n",
              "    background-color: var(--hover-bg-color);\n",
              "    box-shadow: 0 1px 2px rgba(60, 64, 67, 0.3), 0 1px 3px 1px rgba(60, 64, 67, 0.15);\n",
              "    fill: var(--button-hover-fill-color);\n",
              "  }\n",
              "\n",
              "  .colab-df-quickchart-complete:disabled,\n",
              "  .colab-df-quickchart-complete:disabled:hover {\n",
              "    background-color: var(--disabled-bg-color);\n",
              "    fill: var(--disabled-fill-color);\n",
              "    box-shadow: none;\n",
              "  }\n",
              "\n",
              "  .colab-df-spinner {\n",
              "    border: 2px solid var(--fill-color);\n",
              "    border-color: transparent;\n",
              "    border-bottom-color: var(--fill-color);\n",
              "    animation:\n",
              "      spin 1s steps(1) infinite;\n",
              "  }\n",
              "\n",
              "  @keyframes spin {\n",
              "    0% {\n",
              "      border-color: transparent;\n",
              "      border-bottom-color: var(--fill-color);\n",
              "      border-left-color: var(--fill-color);\n",
              "    }\n",
              "    20% {\n",
              "      border-color: transparent;\n",
              "      border-left-color: var(--fill-color);\n",
              "      border-top-color: var(--fill-color);\n",
              "    }\n",
              "    30% {\n",
              "      border-color: transparent;\n",
              "      border-left-color: var(--fill-color);\n",
              "      border-top-color: var(--fill-color);\n",
              "      border-right-color: var(--fill-color);\n",
              "    }\n",
              "    40% {\n",
              "      border-color: transparent;\n",
              "      border-right-color: var(--fill-color);\n",
              "      border-top-color: var(--fill-color);\n",
              "    }\n",
              "    60% {\n",
              "      border-color: transparent;\n",
              "      border-right-color: var(--fill-color);\n",
              "    }\n",
              "    80% {\n",
              "      border-color: transparent;\n",
              "      border-right-color: var(--fill-color);\n",
              "      border-bottom-color: var(--fill-color);\n",
              "    }\n",
              "    90% {\n",
              "      border-color: transparent;\n",
              "      border-bottom-color: var(--fill-color);\n",
              "    }\n",
              "  }\n",
              "</style>\n",
              "\n",
              "  <script>\n",
              "    async function quickchart(key) {\n",
              "      const quickchartButtonEl =\n",
              "        document.querySelector('#' + key + ' button');\n",
              "      quickchartButtonEl.disabled = true;  // To prevent multiple clicks.\n",
              "      quickchartButtonEl.classList.add('colab-df-spinner');\n",
              "      try {\n",
              "        const charts = await google.colab.kernel.invokeFunction(\n",
              "            'suggestCharts', [key], {});\n",
              "      } catch (error) {\n",
              "        console.error('Error during call to suggestCharts:', error);\n",
              "      }\n",
              "      quickchartButtonEl.classList.remove('colab-df-spinner');\n",
              "      quickchartButtonEl.classList.add('colab-df-quickchart-complete');\n",
              "    }\n",
              "    (() => {\n",
              "      let quickchartButtonEl =\n",
              "        document.querySelector('#df-73938c61-fc7d-4aea-8ac7-780abde17ead button');\n",
              "      quickchartButtonEl.style.display =\n",
              "        google.colab.kernel.accessAllowed ? 'block' : 'none';\n",
              "    })();\n",
              "  </script>\n",
              "</div>\n",
              "\n",
              "  <div id=\"id_8ba85c3c-faec-4083-ba36-b6deef0b348e\">\n",
              "    <style>\n",
              "      .colab-df-generate {\n",
              "        background-color: #E8F0FE;\n",
              "        border: none;\n",
              "        border-radius: 50%;\n",
              "        cursor: pointer;\n",
              "        display: none;\n",
              "        fill: #1967D2;\n",
              "        height: 32px;\n",
              "        padding: 0 0 0 0;\n",
              "        width: 32px;\n",
              "      }\n",
              "\n",
              "      .colab-df-generate:hover {\n",
              "        background-color: #E2EBFA;\n",
              "        box-shadow: 0px 1px 2px rgba(60, 64, 67, 0.3), 0px 1px 3px 1px rgba(60, 64, 67, 0.15);\n",
              "        fill: #174EA6;\n",
              "      }\n",
              "\n",
              "      [theme=dark] .colab-df-generate {\n",
              "        background-color: #3B4455;\n",
              "        fill: #D2E3FC;\n",
              "      }\n",
              "\n",
              "      [theme=dark] .colab-df-generate:hover {\n",
              "        background-color: #434B5C;\n",
              "        box-shadow: 0px 1px 3px 1px rgba(0, 0, 0, 0.15);\n",
              "        filter: drop-shadow(0px 1px 2px rgba(0, 0, 0, 0.3));\n",
              "        fill: #FFFFFF;\n",
              "      }\n",
              "    </style>\n",
              "    <button class=\"colab-df-generate\" onclick=\"generateWithVariable('data')\"\n",
              "            title=\"Generate code using this dataframe.\"\n",
              "            style=\"display:none;\">\n",
              "\n",
              "  <svg xmlns=\"http://www.w3.org/2000/svg\" height=\"24px\"viewBox=\"0 0 24 24\"\n",
              "       width=\"24px\">\n",
              "    <path d=\"M7,19H8.4L18.45,9,17,7.55,7,17.6ZM5,21V16.75L18.45,3.32a2,2,0,0,1,2.83,0l1.4,1.43a1.91,1.91,0,0,1,.58,1.4,1.91,1.91,0,0,1-.58,1.4L9.25,21ZM18.45,9,17,7.55Zm-12,3A5.31,5.31,0,0,0,4.9,8.1,5.31,5.31,0,0,0,1,6.5,5.31,5.31,0,0,0,4.9,4.9,5.31,5.31,0,0,0,6.5,1,5.31,5.31,0,0,0,8.1,4.9,5.31,5.31,0,0,0,12,6.5,5.46,5.46,0,0,0,6.5,12Z\"/>\n",
              "  </svg>\n",
              "    </button>\n",
              "    <script>\n",
              "      (() => {\n",
              "      const buttonEl =\n",
              "        document.querySelector('#id_8ba85c3c-faec-4083-ba36-b6deef0b348e button.colab-df-generate');\n",
              "      buttonEl.style.display =\n",
              "        google.colab.kernel.accessAllowed ? 'block' : 'none';\n",
              "\n",
              "      buttonEl.onclick = () => {\n",
              "        google.colab.notebook.generateWithVariable('data');\n",
              "      }\n",
              "      })();\n",
              "    </script>\n",
              "  </div>\n",
              "\n",
              "    </div>\n",
              "  </div>\n"
            ],
            "application/vnd.google.colaboratory.intrinsic+json": {
              "type": "dataframe",
              "variable_name": "data"
            }
          },
          "metadata": {}
        }
      ]
    },
    {
      "cell_type": "markdown",
      "source": [
        "### **Cargar 100 filas posteriores a las primeras 17000:**"
      ],
      "metadata": {
        "id": "Y_A4TUbtQW3a"
      }
    },
    {
      "cell_type": "code",
      "source": [
        "# Seleccionamos las filas 17,000 a 17,100 para las características y la variable de salida\n",
        "X_prediccion = data.iloc[17000:17100, :-1]  # Características de las filas adicionales\n",
        "y_prediccion = data.iloc[17000:17100, -1]   # Variable de salida de las filas adicionales"
      ],
      "metadata": {
        "id": "JEsUrw5U67m7"
      },
      "execution_count": 499,
      "outputs": []
    },
    {
      "cell_type": "code",
      "source": [
        "def plotData(x, y):\n",
        "    #Grafica los puntos x e y en una figura nueva.\n",
        "\n",
        "    fig = pyplot.figure()  # abre una nueva figura\n",
        "\n",
        "    pyplot.plot(x, y, 'ro', ms=10, mec='k')\n",
        "    pyplot.ylabel('Precio')\n",
        "    pyplot.xlabel('Caracteristica')\n"
      ],
      "metadata": {
        "id": "PDwLBDlF7Asu"
      },
      "execution_count": 500,
      "outputs": []
    },
    {
      "cell_type": "markdown",
      "source": [
        "### **Expansión de Características en Regresión Polinómica:**\n",
        "\n",
        "Añade una nueva característica al conjunto de datos X para hacer una regresión polinómica. La línea X = np.concatenate([X, X * X], axis=1) toma la matriz X y la amplía añadiendo una nueva columna que es el cuadrado de cada valor en X"
      ],
      "metadata": {
        "id": "dfV8pOtJQp2r"
      }
    },
    {
      "cell_type": "code",
      "source": [
        "X = np.concatenate([X, X * X], axis=1)\n",
        "print(X)"
      ],
      "metadata": {
        "colab": {
          "base_uri": "https://localhost:8080/"
        },
        "id": "5NsDagEl7BaO",
        "outputId": "c833d869-0a7e-4938-c40d-b789240ef8d6"
      },
      "execution_count": 501,
      "outputs": [
        {
          "output_type": "stream",
          "name": "stdout",
          "text": [
            "[[2.81000000e+00 1.75000000e+00 2.30400000e+01 ... 1.13097690e+03\n",
            "  2.34691802e+07 4.62400000e-01]\n",
            " [9.47000000e+00 1.82000000e+00 1.75000000e+01 ... 1.18404810e+03\n",
            "  4.47429886e+07 7.92100000e-01]\n",
            " [4.61000000e+00 1.84000000e+00 2.37200000e+01 ... 1.18060960e+03\n",
            "  4.73839490e+07 4.35600000e-01]\n",
            " ...\n",
            " [9.97000000e+00 1.64000000e+00 2.18000000e+01 ... 5.29920400e+02\n",
            "  9.77925188e+07 3.72100000e-01]\n",
            " [7.10000000e+00 1.51000000e+00 1.35800000e+01 ... 4.33888900e+02\n",
            "  1.20898767e+07 1.00000000e+00]\n",
            " [1.47000000e+00 1.32000000e+00 1.51400000e+01 ... 6.49740100e+02\n",
            "  7.40360435e+07 4.35600000e-01]]\n"
          ]
        }
      ]
    },
    {
      "cell_type": "markdown",
      "source": [
        "### **Normalización de Características:**\n",
        "\n",
        "La función featureNormalize ajusta las características de X para que tengan una media de 0 y una desviación estándar de 1. Calcula la media y desviación estándar de cada columna, luego ajusta los valores de X restando la media y dividiendo por la desviación estándar. Devuelve el conjunto de datos normalizado, junto con las medias y desviaciones estándar usadas."
      ],
      "metadata": {
        "id": "cQaVNNicQ__Q"
      }
    },
    {
      "cell_type": "code",
      "source": [
        "def  featureNormalize(X):\n",
        "    X_norm = X.copy()\n",
        "    mu = np.zeros(X.shape[1])\n",
        "    sigma = np.zeros(X.shape[1])\n",
        "\n",
        "    mu = np.mean(X, axis = 0)\n",
        "    sigma = np.std(X, axis = 0)\n",
        "    X_norm = (X - mu) / sigma\n",
        "\n",
        "    return X_norm, mu, sigma"
      ],
      "metadata": {
        "id": "TeAXC4sd7DU2"
      },
      "execution_count": 502,
      "outputs": []
    },
    {
      "cell_type": "code",
      "source": [
        "# llama featureNormalize con los datos cargados\n",
        "X_norm, mu, sigma = featureNormalize(X)\n",
        "print(X_norm)"
      ],
      "metadata": {
        "colab": {
          "base_uri": "https://localhost:8080/"
        },
        "id": "vIuMDRve7KmP",
        "outputId": "2587bfac-4cbe-478b-a8e6-6cbcb95e44ad"
      },
      "execution_count": 503,
      "outputs": [
        {
          "output_type": "stream",
          "name": "stdout",
          "text": [
            "[[-1.04646161  1.14119643  1.20621288 ...  0.0421273  -0.54753652\n",
            "  -1.03811624]\n",
            " [ 1.52527644  1.51450447 -0.2674419  ...  0.15501131  0.19074546\n",
            "   0.40019099]\n",
            " [-0.35139727  1.62116392  1.38709469 ...  0.14769752  0.28239681\n",
            "  -1.1550305 ]\n",
            " ...\n",
            " [ 1.71834987  0.55456949  0.87636957 ... -1.23633756  2.0317657\n",
            "  -1.43204751]\n",
            " [ 0.6101084  -0.13871688 -1.31017236 ... -1.44059939 -0.94244158\n",
            "   1.30714905]\n",
            " [-1.5638984  -1.15198158 -0.89520819 ... -0.98147753  1.20732575\n",
            "  -1.1550305 ]]\n"
          ]
        }
      ]
    },
    {
      "cell_type": "markdown",
      "source": [
        "### **Añade un Término de Sesgo:**\n",
        "\n",
        "Este código agrega una columna de unos al inicio del conjunto de datos X_norm para incluir un término de sesgo en el modelo"
      ],
      "metadata": {
        "id": "UhfkVGjC7hpK"
      }
    },
    {
      "cell_type": "code",
      "source": [
        "X = np.concatenate([np.ones((m, 1)), X_norm], axis=1)\n",
        "print(X)"
      ],
      "metadata": {
        "colab": {
          "base_uri": "https://localhost:8080/"
        },
        "id": "uU40u8QP7afy",
        "outputId": "b5bc5196-aa39-48e2-d6ec-aaccaac248bd"
      },
      "execution_count": 504,
      "outputs": [
        {
          "output_type": "stream",
          "name": "stdout",
          "text": [
            "[[ 1.         -1.04646161  1.14119643 ...  0.0421273  -0.54753652\n",
            "  -1.03811624]\n",
            " [ 1.          1.52527644  1.51450447 ...  0.15501131  0.19074546\n",
            "   0.40019099]\n",
            " [ 1.         -0.35139727  1.62116392 ...  0.14769752  0.28239681\n",
            "  -1.1550305 ]\n",
            " ...\n",
            " [ 1.          1.71834987  0.55456949 ... -1.23633756  2.0317657\n",
            "  -1.43204751]\n",
            " [ 1.          0.6101084  -0.13871688 ... -1.44059939 -0.94244158\n",
            "   1.30714905]\n",
            " [ 1.         -1.5638984  -1.15198158 ... -0.98147753  1.20732575\n",
            "  -1.1550305 ]]\n"
          ]
        }
      ]
    },
    {
      "cell_type": "markdown",
      "source": [
        "### **DESCENSO POR EL GRADIENTE:**"
      ],
      "metadata": {
        "id": "fPnRxGKi7nQU"
      }
    },
    {
      "cell_type": "markdown",
      "source": [
        "### **Calculo de costo:**\n",
        "\n",
        "La función computeCostMulti calcula el costo del modelo de regresión multivariable comparando las predicciones con los valores reales. Usa la fórmula del error cuadrático medio para medir qué tan bien se ajusta el modelo."
      ],
      "metadata": {
        "id": "29W7fbAmR-8M"
      }
    },
    {
      "cell_type": "code",
      "source": [
        "def computeCostMulti(X, y, theta):\n",
        "    # Inicializa algunos valores utiles\n",
        "    m = y.shape[0] # numero de ejemplos de entrenamiento\n",
        "\n",
        "    J = 0\n",
        "\n",
        "    h = np.dot(X, theta)\n",
        "\n",
        "    J = (1/(2 * m)) * np.sum(np.square(np.dot(X, theta) - y))\n",
        "\n",
        "    return J"
      ],
      "metadata": {
        "id": "2XEGXjYI7kV-"
      },
      "execution_count": 505,
      "outputs": []
    },
    {
      "cell_type": "markdown",
      "source": [
        "### **Descenso por el gradiente:**\n",
        "\n",
        "La función gradientDescentMulti ajusta los parámetros del modelo theta para minimizar el costo usando el descenso por el gradiente. Actualiza theta iterativamente, calculando el gradiente y restándolo de theta. Guarda el costo en cada iteración para rastrear el progreso. Finalmente, devuelve los parámetros ajustados y la historia del costo."
      ],
      "metadata": {
        "id": "x9LaLawASQd5"
      }
    },
    {
      "cell_type": "code",
      "source": [
        "def gradientDescentMulti(X, y, theta, alpha, num_iters):\n",
        "\n",
        "    # Inicializa algunos valores\n",
        "    m = y.shape[0] # numero de ejemplos de entrenamiento\n",
        "\n",
        "    # realiza una copia de theta, el cual será acutalizada por el descenso por el gradiente\n",
        "    theta = theta.copy()\n",
        "\n",
        "    J_history = []\n",
        "\n",
        "    for i in range(num_iters):\n",
        "        theta = theta - (alpha / m) * (np.dot(X, theta) - y).dot(X)\n",
        "        J_history.append(computeCostMulti(X, y, theta))\n",
        "\n",
        "    return theta, J_history"
      ],
      "metadata": {
        "id": "TuPZkPKG7yvh"
      },
      "execution_count": 506,
      "outputs": []
    },
    {
      "cell_type": "markdown",
      "source": [
        "### **Configuración y Ejecución del Descenso por el Gradiente:**\n",
        "\n",
        "Se establece una tasa de aprendizaje alpha y el número de iteraciones. Se inicializan los parámetros theta y se ejecuta el descenso por el gradiente con gradientDescentMulti. Luego, se grafica la evolución del costo a lo largo de las iteraciones y se muestra el valor final de theta."
      ],
      "metadata": {
        "id": "uOcLznguSeTE"
      }
    },
    {
      "cell_type": "code",
      "source": [
        "# Elegir algun valor para alpha (probar varias alternativas)\n",
        "alpha = 0.001\n",
        "num_iters = 10000\n",
        "\n",
        "# inicializa theta y ejecuta el descenso por el gradiente\n",
        "theta = np.zeros(19) # son solo las 9 columnas (9*2 =18) de X más 1 que aumentamos de unos (sesgo)\n",
        "theta, J_history = gradientDescentMulti(X, y, theta, alpha, num_iters)\n",
        "\n",
        "# Grafica la convergencia del costo\n",
        "pyplot.plot(np.arange(len(J_history)), J_history, lw=2)\n",
        "pyplot.xlabel('Numero de iteraciones')\n",
        "pyplot.ylabel('Costo J')\n",
        "\n",
        "# Muestra los resultados del descenso por el gradiente\n",
        "print('theta calculado por el descenso por el gradiente: {:s}'.format(str(theta)))\n"
      ],
      "metadata": {
        "colab": {
          "base_uri": "https://localhost:8080/",
          "height": 540
        },
        "id": "Qs3V3CCv74bm",
        "outputId": "460fc724-ad6d-4253-a704-bc5a0b3fe087"
      },
      "execution_count": 507,
      "outputs": [
        {
          "output_type": "stream",
          "name": "stdout",
          "text": [
            "theta calculado por el descenso por el gradiente: [ 5.94878186e+02  2.01200655e+00 -3.38646161e-01  1.36854119e+00\n",
            " -1.07521760e+00  1.49197213e-01 -2.35814753e+00  7.24485703e-01\n",
            " -1.84705665e+00  5.17209642e+01 -6.80822611e-01 -2.66026528e-01\n",
            "  1.45791131e+00  2.81729075e-01 -2.09352033e-01  2.31857522e+00\n",
            " -1.75890863e+00 -6.44454696e-02  5.01919649e+01]\n"
          ]
        },
        {
          "output_type": "display_data",
          "data": {
            "text/plain": [
              "<Figure size 640x480 with 1 Axes>"
            ],
            "image/png": "[encoded data removed]"
          },
          "metadata": {}
        }
      ]
    },
    {
      "cell_type": "markdown",
      "source": [
        "## **PREDICCIONES**"
      ],
      "metadata": {
        "id": "G9QWCfBY7_6p"
      }
    },
    {
      "cell_type": "markdown",
      "source": [
        "Primero, se normalizan las características de X_array (excepto el primer valor de sesgo) usando mu y sigma. Luego, se usa el modelo theta para calcular el precio estimado a partir de X_array mediante la multiplicación de matrices. Finalmente, se imprimen el valor de theta encontrado, el costo final después de las iteraciones y el precio estimado."
      ],
      "metadata": {
        "id": "2ZNP0y59SucL"
      }
    },
    {
      "cell_type": "code",
      "source": [
        "X_array = [1, 2.81, 1.75, 23.04, 6.29, 0.76, 39.02, 33.63, 4844.5, 0.68,\n",
        "          7.8961, 3.0625, 531.3024, 39.5641, 0.5776, 1521.3604, 1123.5969, 23458700.25, 0.4624] #las primeras 9 características después del 1 son las originales, y las 9 características adicionales al final son sus cuadrados\n",
        "X_array[1:19] = (X_array[1:19] - mu) / sigma\n",
        "price = np.dot(X_array, theta)\n",
        "\n",
        "print('Theta encontrada por descenso gradiente: {:.4f}, {:.4f}'.format(*theta))\n",
        "print(f\"Costo final después de {num_iters} iteraciones: {J_history[-1]:.2f}\")\n",
        "\n",
        "print('El precio (usando el descenso por el gradiente): ${:.0f}'.format(price))"
      ],
      "metadata": {
        "colab": {
          "base_uri": "https://localhost:8080/"
        },
        "id": "2WuEO8kB76eZ",
        "outputId": "797e53e6-5b11-4f9e-8265-a66c1b2a6183"
      },
      "execution_count": 508,
      "outputs": [
        {
          "output_type": "stream",
          "name": "stdout",
          "text": [
            "Theta encontrada por descenso gradiente: 594.8782, 2.0120\n",
            "Costo final después de 10000 iteraciones: 22134.40\n",
            "El precio (usando el descenso por el gradiente): $490\n"
          ]
        }
      ]
    },
    {
      "cell_type": "markdown",
      "source": [
        "### 100 predicciones"
      ],
      "metadata": {
        "id": "jt-VD_lh8TDW"
      }
    },
    {
      "cell_type": "markdown",
      "source": [
        "Primero, se toma X_prediccion, que son las características de las filas 17,000 a 17,100 del dataset, y se les añaden términos cuadrados para capturar relaciones no lineales. Luego, se normalizan estos datos usando las medias (mu) y desviaciones estándar (sigma) calculadas en los datos de entrenamiento. Se agrega una columna de unos para incluir el término de sesgo, generando X_prediccion_nor_ses. Usando el modelo theta, se calculan las predicciones (predicciones_RegPol). Finalmente, se imprimen estas predicciones junto con los valores reales esperados (y_prediccion) para comparar y evaluar el rendimiento del modelo."
      ],
      "metadata": {
        "id": "F-gBWw7TTTN9"
      }
    },
    {
      "cell_type": "code",
      "source": [
        "# Agregar términos al cuadrado\n",
        "X_prediccion_Cuadrado = np.concatenate([X_prediccion, X_prediccion ** 2], axis=1)\n",
        "\n",
        "# Normalización de los datos de prueba usando mu y sigma calculados en los datos de entrenamiento\n",
        "X_prediccion_Cuadrado_norm = (X_prediccion_Cuadrado - mu) / sigma\n",
        "\n",
        "# Agregar la columna de unos a los datos normalizados\n",
        "X_prediccion_nor_ses = np.concatenate([np.ones((X_prediccion_Cuadrado_norm.shape[0], 1)), X_prediccion_Cuadrado_norm], axis=1)\n",
        "\n",
        "# Realizar las predicciones\n",
        "predicciones_RegPol = np.dot(X_prediccion_nor_ses, theta)\n",
        "\n",
        "# Imprimir las predicciones junto con los valores reales\n",
        "for i, (prediccion, real) in enumerate(zip(predicciones_RegPol, y_prediccion)):\n",
        "    print(f'Predicción {i+1}: ${prediccion:.0f} - Valor Esperado: ${real:.0f}')\n"
      ],
      "metadata": {
        "colab": {
          "base_uri": "https://localhost:8080/"
        },
        "id": "_LVoNRpC8RJq",
        "outputId": "aa4cf567-a4a6-4758-961a-b920ead7b465"
      },
      "execution_count": 509,
      "outputs": [
        {
          "output_type": "stream",
          "name": "stdout",
          "text": [
            "Predicción 1: $722 - Valor Esperado: $755\n",
            "Predicción 2: $585 - Valor Esperado: $563\n",
            "Predicción 3: $465 - Valor Esperado: $622\n",
            "Predicción 4: $690 - Valor Esperado: $877\n",
            "Predicción 5: $592 - Valor Esperado: $753\n",
            "Predicción 6: $467 - Valor Esperado: $345\n",
            "Predicción 7: $575 - Valor Esperado: $778\n",
            "Predicción 8: $627 - Valor Esperado: $471\n",
            "Predicción 9: $483 - Valor Esperado: $211\n",
            "Predicción 10: $724 - Valor Esperado: $886\n",
            "Predicción 11: $682 - Valor Esperado: $885\n",
            "Predicción 12: $724 - Valor Esperado: $919\n",
            "Predicción 13: $476 - Valor Esperado: $286\n",
            "Predicción 14: $603 - Valor Esperado: $822\n",
            "Predicción 15: $726 - Valor Esperado: $543\n",
            "Predicción 16: $468 - Valor Esperado: $204\n",
            "Predicción 17: $474 - Valor Esperado: $586\n",
            "Predicción 18: $468 - Valor Esperado: $500\n",
            "Predicción 19: $632 - Valor Esperado: $185\n",
            "Predicción 20: $724 - Valor Esperado: $916\n",
            "Predicción 21: $718 - Valor Esperado: $939\n",
            "Predicción 22: $474 - Valor Esperado: $140\n",
            "Predicción 23: $477 - Valor Esperado: $626\n",
            "Predicción 24: $728 - Valor Esperado: $251\n",
            "Predicción 25: $725 - Valor Esperado: $886\n",
            "Predicción 26: $474 - Valor Esperado: $646\n",
            "Predicción 27: $580 - Valor Esperado: $748\n",
            "Predicción 28: $636 - Valor Esperado: $530\n",
            "Predicción 29: $724 - Valor Esperado: $684\n",
            "Predicción 30: $474 - Valor Esperado: $620\n",
            "Predicción 31: $725 - Valor Esperado: $946\n",
            "Predicción 32: $586 - Valor Esperado: $761\n",
            "Predicción 33: $581 - Valor Esperado: $790\n",
            "Predicción 34: $586 - Valor Esperado: $803\n",
            "Predicción 35: $444 - Valor Esperado: $264\n",
            "Predicción 36: $605 - Valor Esperado: $797\n",
            "Predicción 37: $465 - Valor Esperado: $275\n",
            "Predicción 38: $480 - Valor Esperado: $400\n",
            "Predicción 39: $489 - Valor Esperado: $171\n",
            "Predicción 40: $600 - Valor Esperado: $366\n",
            "Predicción 41: $725 - Valor Esperado: $926\n",
            "Predicción 42: $577 - Valor Esperado: $168\n",
            "Predicción 43: $727 - Valor Esperado: $967\n",
            "Predicción 44: $584 - Valor Esperado: $620\n",
            "Predicción 45: $576 - Valor Esperado: $168\n",
            "Predicción 46: $677 - Valor Esperado: $513\n",
            "Predicción 47: $601 - Valor Esperado: $820\n",
            "Predicción 48: $721 - Valor Esperado: $926\n",
            "Predicción 49: $724 - Valor Esperado: $886\n",
            "Predicción 50: $473 - Valor Esperado: $213\n",
            "Predicción 51: $567 - Valor Esperado: $602\n",
            "Predicción 52: $727 - Valor Esperado: $977\n",
            "Predicción 53: $587 - Valor Esperado: $492\n",
            "Predicción 54: $732 - Valor Esperado: $745\n",
            "Predicción 55: $685 - Valor Esperado: $715\n",
            "Predicción 56: $622 - Valor Esperado: $377\n",
            "Predicción 57: $606 - Valor Esperado: $271\n",
            "Predicción 58: $725 - Valor Esperado: $604\n",
            "Predicción 59: $481 - Valor Esperado: $646\n",
            "Predicción 60: $620 - Valor Esperado: $808\n",
            "Predicción 61: $478 - Valor Esperado: $166\n",
            "Predicción 62: $462 - Valor Esperado: $615\n",
            "Predicción 63: $473 - Valor Esperado: $166\n",
            "Predicción 64: $447 - Valor Esperado: $196\n",
            "Predicción 65: $699 - Valor Esperado: $665\n",
            "Predicción 66: $460 - Valor Esperado: $134\n",
            "Predicción 67: $705 - Valor Esperado: $900\n",
            "Predicción 68: $464 - Valor Esperado: $583\n",
            "Predicción 69: $470 - Valor Esperado: $613\n",
            "Predicción 70: $648 - Valor Esperado: $672\n",
            "Predicción 71: $596 - Valor Esperado: $457\n",
            "Predicción 72: $587 - Valor Esperado: $798\n",
            "Predicción 73: $480 - Valor Esperado: $493\n",
            "Predicción 74: $573 - Valor Esperado: $738\n",
            "Predicción 75: $601 - Valor Esperado: $797\n",
            "Predicción 76: $465 - Valor Esperado: $562\n",
            "Predicción 77: $474 - Valor Esperado: $640\n",
            "Predicción 78: $566 - Valor Esperado: $596\n",
            "Predicción 79: $733 - Valor Esperado: $946\n",
            "Predicción 80: $605 - Valor Esperado: $780\n",
            "Predicción 81: $587 - Valor Esperado: $617\n",
            "Predicción 82: $482 - Valor Esperado: $412\n",
            "Predicción 83: $642 - Valor Esperado: $626\n",
            "Predicción 84: $585 - Valor Esperado: $620\n",
            "Predicción 85: $475 - Valor Esperado: $449\n",
            "Predicción 86: $705 - Valor Esperado: $244\n",
            "Predicción 87: $567 - Valor Esperado: $345\n",
            "Predicción 88: $724 - Valor Esperado: $211\n",
            "Predicción 89: $601 - Valor Esperado: $627\n",
            "Predicción 90: $578 - Valor Esperado: $544\n",
            "Predicción 91: $600 - Valor Esperado: $636\n",
            "Predicción 92: $714 - Valor Esperado: $929\n",
            "Predicción 93: $701 - Valor Esperado: $857\n",
            "Predicción 94: $727 - Valor Esperado: $977\n",
            "Predicción 95: $634 - Valor Esperado: $224\n",
            "Predicción 96: $464 - Valor Esperado: $160\n",
            "Predicción 97: $726 - Valor Esperado: $745\n",
            "Predicción 98: $723 - Valor Esperado: $543\n",
            "Predicción 99: $439 - Valor Esperado: $577\n",
            "Predicción 100: $581 - Valor Esperado: $493\n"
          ]
        }
      ]
    }
  ],
  "metadata": {
    "kernelspec": {
      "display_name": "Python 3",
      "language": "python",
      "name": "python3"
    },
    "language_info": {
      "codemirror_mode": {
        "name": "ipython",
        "version": 3
      },
      "file_extension": ".py",
      "mimetype": "text/x-python",
      "name": "python",
      "nbconvert_exporter": "python",
      "pygments_lexer": "ipython3",
      "version": "3.8.5"
    },
    "colab": {
      "provenance": []
    }
  },
  "nbformat": 4,
  "nbformat_minor": 0
}